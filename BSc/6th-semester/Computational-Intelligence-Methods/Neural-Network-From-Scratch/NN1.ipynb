{
 "cells": [
  {
   "cell_type": "code",
   "execution_count": 1,
   "id": "innocent-services",
   "metadata": {},
   "outputs": [],
   "source": [
    "import pandas as pd\n",
    "import numpy as np\n",
    "import math\n",
    "from copy import deepcopy \n",
    "from itertools import chain\n",
    "from sklearn.metrics import mean_squared_error"
   ]
  },
  {
   "cell_type": "code",
   "execution_count": 2,
   "id": "configured-finish",
   "metadata": {},
   "outputs": [],
   "source": [
    "class NeuralNetwork:\n",
    "    \n",
    "    def __init__(self, neurals_input, weights, biases, functions):\n",
    "            \n",
    "        if type(neurals_input) != list:\n",
    "            raise Exception(\"Input must be a list\")\n",
    "        \n",
    "        if not all(type(el) == list for el in neurals_input):\n",
    "            \n",
    "            if any(type(el) == list for el in neurals_input):\n",
    "                raise Exception(\"Neurals_input is incorrectly formatted\")\n",
    "            \n",
    "            neurals_input = [neurals_input]\n",
    "        \n",
    "        self.neurals_input = neurals_input\n",
    "        \n",
    "        self.weights = weights\n",
    "        self.biases = biases\n",
    "        self.functions = functions\n",
    "        \n",
    "        \n",
    "    def feedforward(self):\n",
    "        actual_layer = deepcopy(self.neurals_input)\n",
    "        for i in range(len(self.weights)):\n",
    "            m = np.asmatrix(actual_layer) * np.asmatrix(self.weights[i]) +\\\n",
    "                np.repeat(np.asmatrix(self.biases[i]), repeats=len(actual_layer), axis=0)\n",
    "            func = np.vectorize(self.functions[i])\n",
    "            m = func(m)\n",
    "            actual_layer = m.tolist()\n",
    "\n",
    "        return list(chain(*actual_layer))\n",
    "    \n",
    "    \n",
    "    def mse(self, real_value):\n",
    "        \n",
    "        self_results = self.feedforward()\n",
    "        return mean_squared_error(self_results, real_value, squared=True)\n",
    "    \n",
    "    def add_layer(self, weights, biases, function):\n",
    "        \n",
    "        self.weights.append(weights)\n",
    "        self.biases.append(biases)\n",
    "        self.functions.append(function)"
   ]
  },
  {
   "cell_type": "code",
   "execution_count": 3,
   "id": "annual-victor",
   "metadata": {},
   "outputs": [],
   "source": [
    "def sigmoid(x):\n",
    "    e = math.exp((-1)*x)\n",
    "    return 1/(1+e)\n",
    "\n",
    "def linear(x):\n",
    "    return x"
   ]
  },
  {
   "cell_type": "markdown",
   "id": "dangerous-destiny",
   "metadata": {},
   "source": [
    "# Steps-large"
   ]
  },
  {
   "cell_type": "code",
   "execution_count": 4,
   "id": "little-ireland",
   "metadata": {},
   "outputs": [],
   "source": [
    "data = pd.read_csv('mio1/regression/steps-large-test.csv')\n",
    "x = list(data.x)\n",
    "y_steps_large = list(data.y)"
   ]
  },
  {
   "cell_type": "code",
   "execution_count": 5,
   "id": "french-desperate",
   "metadata": {},
   "outputs": [],
   "source": [
    "x_steps_large = [[el] for el in x]"
   ]
  },
  {
   "cell_type": "markdown",
   "id": "blank-astronomy",
   "metadata": {},
   "source": [
    "## Architektura: dwie warstwy ukryte, po 5 neuronów każda."
   ]
  },
  {
   "cell_type": "code",
   "execution_count": 6,
   "id": "serious-consent",
   "metadata": {},
   "outputs": [],
   "source": [
    "n1 = NeuralNetwork(\n",
    "    neurals_input = x_steps_large,\n",
    "    weights = [\n",
    "        [[92.01574, 70.451454, 66.332375, -83.25549, 63.553905]],\n",
    "        [[-2.8232336, 19.220058, -1.4210024, -6.060664, 19.102098],\n",
    "         [-4.154142, 15.317811, -2.1335785, -5.3924274, 15.616502],\n",
    "         [13.359129, 3.7051284, -2.6084232, 19.427048, 3.5905933],\n",
    "         [-0.5742619, -4.5367007, 30.944517, -4.1809025, -4.3738713],\n",
    "         [12.666903, 2.9117405, -2.981745, 18.60491, 2.2477744]],\n",
    "        [[35.663185],\n",
    "         [41.10624],\n",
    "         [-79.27482],\n",
    "         [44.332226],\n",
    "         [40.87245]]\n",
    "    ],\n",
    "    biases = [\n",
    "        [-46.003574, -35.46498, -99.89713, -41.42763, -95.71452],\n",
    "        [-2.718569, -15.8805895, -14.008449, -11.426614, -11.393921],\n",
    "        [-1.9247388]\n",
    "    ],\n",
    "    functions = [\n",
    "        sigmoid, sigmoid, linear\n",
    "    ]\n",
    ")"
   ]
  },
  {
   "cell_type": "code",
   "execution_count": 7,
   "id": "pleasant-macedonia",
   "metadata": {},
   "outputs": [
    {
     "data": {
      "text/plain": [
       "6.321903482597109"
      ]
     },
     "execution_count": 7,
     "metadata": {},
     "output_type": "execute_result"
    }
   ],
   "source": [
    "n1.mse(y_steps_large)"
   ]
  },
  {
   "cell_type": "markdown",
   "id": "spread-letter",
   "metadata": {},
   "source": [
    "# Square-simple"
   ]
  },
  {
   "cell_type": "code",
   "execution_count": 8,
   "id": "alone-smile",
   "metadata": {},
   "outputs": [],
   "source": [
    "data = pd.read_csv('mio1/regression/square-simple-test.csv')\n",
    "x = list(data.x)\n",
    "y_sq_simple = list(data.y)"
   ]
  },
  {
   "cell_type": "code",
   "execution_count": 9,
   "id": "becoming-concentration",
   "metadata": {},
   "outputs": [],
   "source": [
    "x_sq_simple = [[el] for el in x]"
   ]
  },
  {
   "cell_type": "markdown",
   "id": "beautiful-pharmacology",
   "metadata": {},
   "source": [
    "## Architektura: dwie warstwy ukryte, po 5 neuronów każda."
   ]
  },
  {
   "cell_type": "code",
   "execution_count": 10,
   "id": "failing-hybrid",
   "metadata": {},
   "outputs": [],
   "source": [
    "n2 = NeuralNetwork(\n",
    "    neurals_input = x_sq_simple,\n",
    "    weights = [\n",
    "        [[-6.8366914, -1.309899, -7.857381, -5.0007024, -5.4391775]],\n",
    "        [\n",
    "            [6.494825, 14.298198, 10.50993, -3.0769737, 4.2651587],\n",
    "            [1.4320817, 1.6100711, 3.084889, 20.4765, 6.853492],\n",
    "            [4.580216, 8.2289915, 4.503584, -1.817159, 10.2321415],\n",
    "            [13.247319, 13.200828, 11.405602, -2.907599, 11.668254],\n",
    "            [8.008364, 11.546485,  8.256871, -3.9173906, 4.917154]\n",
    "        ],\n",
    "        [[-49.776226],\n",
    "         [-47.307373],\n",
    "         [-49.92147],\n",
    "         [218.43417],\n",
    "         [-53.689346]]\n",
    "    ],\n",
    "    biases = [\n",
    "        [11.831797, -2.9020953, 3.0692444, 5.171421, 12.135461],\n",
    "        [-11.290198, -10.256425, -9.817, 8.219863, -9.890597],\n",
    "        [53.417557]\n",
    "    ],\n",
    "    functions = [\n",
    "        sigmoid, sigmoid, linear\n",
    "    ]\n",
    ")"
   ]
  },
  {
   "cell_type": "code",
   "execution_count": 11,
   "id": "athletic-headline",
   "metadata": {},
   "outputs": [
    {
     "data": {
      "text/plain": [
       "4.499922868108526"
      ]
     },
     "execution_count": 11,
     "metadata": {},
     "output_type": "execute_result"
    }
   ],
   "source": [
    "n2.mse(y_sq_simple)"
   ]
  }
 ],
 "metadata": {
  "kernelspec": {
   "display_name": "Python 3 (ipykernel)",
   "language": "python",
   "name": "python3"
  },
  "language_info": {
   "codemirror_mode": {
    "name": "ipython",
    "version": 3
   },
   "file_extension": ".py",
   "mimetype": "text/x-python",
   "name": "python",
   "nbconvert_exporter": "python",
   "pygments_lexer": "ipython3",
   "version": "3.9.7"
  }
 },
 "nbformat": 4,
 "nbformat_minor": 5
}
