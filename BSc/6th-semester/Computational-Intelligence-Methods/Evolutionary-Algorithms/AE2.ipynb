{
 "cells": [
  {
   "cell_type": "code",
   "execution_count": 1,
   "id": "1ff9978c",
   "metadata": {},
   "outputs": [],
   "source": [
    "import pandas as pd\n",
    "import numpy as np\n",
    "import matplotlib.pyplot as plt\n",
    "import random\n",
    "from copy import deepcopy"
   ]
  },
  {
   "cell_type": "code",
   "execution_count": 2,
   "id": "3ecb0ab9",
   "metadata": {},
   "outputs": [],
   "source": [
    "class Rectangle:\n",
    "    \n",
    "    def __init__(self, width, height, value, x_left, y_down):\n",
    "        self.width = width\n",
    "        self.height = height\n",
    "        self.value = value\n",
    "        self.x_left = x_left\n",
    "        self.y_down = y_down\n",
    "        x_right = x_left + width\n",
    "        y_top = y_down + height\n",
    "        self.vertices = [[x_left, y_down], [x_right, y_down],\n",
    "                        [x_right, y_top], [x_left, y_top]]\n",
    "        \n",
    "    def move(self, move_right=0, move_up=0):\n",
    "        self.x_left += move_right\n",
    "        self.y_down += move_up\n",
    "        x_right = self.x_left + self.width\n",
    "        y_top = self.y_down + self.height\n",
    "        self.vertices = [[self.x_left, self.y_down], [x_right, self.y_down],\n",
    "                        [x_right, y_top], [self.x_left, y_top]]\n",
    "        \n",
    "    def rotate(self):\n",
    "        self.width, self.height = self.height, self.width\n",
    "        self.vertices = [[self.x_left, self.y_down],\n",
    "                         [self.x_left + self.width, self.y_down],\n",
    "                         [self.x_left + self.width, self.y_down + self.height],\n",
    "                         [self.x_left, self.y_down + self.height]]\n",
    "    \n",
    "        \n",
    "    def is_intersection(self, rectangle2):\n",
    "                \n",
    "        R1 = [self.x_left, self.y_down, self.x_left + self.width, self.y_down + self.height]\n",
    "        R2 = [rectangle2.x_left, rectangle2.y_down,\n",
    "              rectangle2.x_left + rectangle2.width, rectangle2.y_down + rectangle2.height]\n",
    "        \n",
    "        if R1[0] >= R2[2] or R1[2] <= R2[0] or R1[3] <= R2[1] or R1[1] >= R2[3]:\n",
    "            return False\n",
    "        \n",
    "        return True\n",
    "    \n",
    "    def is_in_circle(self, radius):\n",
    "        for vertex in self.vertices:\n",
    "            if vertex[0] ** 2 + vertex[1] ** 2 > radius ** 2:\n",
    "                return False\n",
    "        return True"
   ]
  },
  {
   "cell_type": "code",
   "execution_count": 3,
   "id": "28b51424",
   "metadata": {},
   "outputs": [],
   "source": [
    "import matplotlib.pyplot as plt\n",
    "from matplotlib.patches import Rectangle as Rectangle2\n",
    "from matplotlib.patches import Circle as Circle2\n",
    "\n",
    "class Circle:\n",
    "    def __init__(self, radius, rectangles=[]):\n",
    "        self.radius = radius\n",
    "        self.rectangles = deepcopy(rectangles)\n",
    "    \n",
    "    def initialize(self, possible_rectangles, rotate_proba=0):\n",
    "          \n",
    "        while True:\n",
    "            r_to_copy = deepcopy(random.choice(possible_rectangles))\n",
    "            if np.random.uniform(low=0, high=1, size=1) < rotate_proba:\n",
    "                r_to_copy.rotate()\n",
    "\n",
    "            flag2 = False\n",
    "            for i in range(1000):\n",
    "                r = deepcopy(r_to_copy)\n",
    "                if i == 999:\n",
    "                    flag2 = True\n",
    "                move_right = random.uniform(-self.radius, self.radius)\n",
    "                move_up = random.uniform(-self.radius, self.radius)\n",
    "                r.move(move_right, move_up)\n",
    "                if not r.is_in_circle(self.radius):\n",
    "                    continue\n",
    "                flag = False\n",
    "                for r2 in self.rectangles:\n",
    "                    if r.is_intersection(r2):\n",
    "                        flag = True\n",
    "                        break\n",
    "                if flag:\n",
    "                    continue\n",
    "                self.rectangles.append(r)\n",
    "                break\n",
    "            if flag2:\n",
    "                break\n",
    "                \n",
    "    def plot_solution(self):\n",
    "        \n",
    "        fig, ax = plt.subplots()\n",
    "\n",
    "        fig.set_size_inches(8, 8)\n",
    "        ax.set_xlim(left=-self.radius-5, right=self.radius+5)\n",
    "        ax.set_ylim(bottom=-self.radius-5, top=self.radius+5)\n",
    "        \n",
    "        ax.add_patch(Circle2((0, 0), radius=self.radius, fill=False))\n",
    "        \n",
    "        for r in self.rectangles:\n",
    "            ax.add_patch(Rectangle2((r.x_left, r.y_down), r.width, r.height, edgecolor='black'))\n",
    "\n",
    "        plt.show()\n",
    "        \n",
    "    def fitness_score(self):\n",
    "        result = 0\n",
    "        for rectangle in self.rectangles:\n",
    "            result += rectangle.value\n",
    "        return result"
   ]
  },
  {
   "cell_type": "code",
   "execution_count": 4,
   "id": "5f013783",
   "metadata": {},
   "outputs": [],
   "source": [
    "class Population:\n",
    "    \n",
    "    def __init__(self, possible_rectangles=[], radius=None, circles=[]):\n",
    "        self.circles = circles\n",
    "        self.possible_rectangles = possible_rectangles\n",
    "        self.num_of_specimens = len(circles)\n",
    "        self.radius = radius\n",
    "        \n",
    "    def initialize_circles(self, num_of_specimens):\n",
    "        for rectangle in self.possible_rectangles:\n",
    "            C = Circle(self.radius)\n",
    "            C.initialize([rectangle], rotate_proba=0.5)\n",
    "            self.circles.append(deepcopy(C))\n",
    "        for _ in range(len(self.circles), num_of_specimens):\n",
    "            C = Circle(self.radius)\n",
    "            C.initialize(self.possible_rectangles, rotate_proba=0.5)\n",
    "            self.circles.append(deepcopy(C))\n",
    "        self.num_of_specimens = len(self.circles)\n",
    "        \n",
    "        \n",
    "    def cross(self, proba=0.7):\n",
    "        def __cross(circle1, circle2):\n",
    "            rectangles_crossed = []\n",
    "            rectangles_1 = deepcopy(circle1.rectangles)\n",
    "            rectangles_2 = deepcopy(circle2.rectangles)\n",
    "            for i in range(min(len(rectangles_1), len(rectangles_2))):\n",
    "                rectangle1 = rectangles_1[i]\n",
    "                flag_r1_it = False\n",
    "                for rectangle in rectangles_crossed:\n",
    "                    if rectangle1.is_intersection(rectangle):\n",
    "                        flag_r1_it = True\n",
    "                        break\n",
    "                if not flag_r1_it:\n",
    "                    rectangles_crossed.append(deepcopy(rectangle1))\n",
    "\n",
    "                rectangle2 = rectangles_2[i]\n",
    "                flag_r2_it = False\n",
    "                for rectangle in rectangles_crossed:\n",
    "                    if rectangle2.is_intersection(rectangle):\n",
    "                        flag_r2_it = True\n",
    "                        break\n",
    "                if not flag_r2_it:\n",
    "                    rectangles_crossed.append(deepcopy(rectangle2))\n",
    "\n",
    "            if len(rectangles_1) < len(rectangles_2):\n",
    "                for i in range(len(rectangles_1), len(rectangles_2)):\n",
    "                    rectangle2 = rectangles_2[i]\n",
    "                    flag_r2_it = False\n",
    "                    for rectangle in rectangles_crossed:\n",
    "                        if rectangle2.is_intersection(rectangle):\n",
    "                            flag_r2_it = True\n",
    "                            break\n",
    "                    if not flag_r2_it:\n",
    "                        rectangles_crossed.append(deepcopy(rectangle2))\n",
    "\n",
    "            else:\n",
    "                for i in range(len(rectangles_2), len(rectangles_1)):\n",
    "                    rectangle1 = rectangles_1[i]\n",
    "                    flag_r1_it = False\n",
    "                    for rectangle in rectangles_crossed:\n",
    "                        if rectangle1.is_intersection(rectangle):\n",
    "                            flag_r1_it = True\n",
    "                            break\n",
    "                    if not flag_r1_it:\n",
    "                        rectangles_crossed.append(deepcopy(rectangle1))\n",
    "\n",
    "\n",
    "            return Circle(radius=circle1.radius, rectangles=rectangles_crossed)     \n",
    "        \n",
    "        circles = deepcopy(self.circles)\n",
    "        random.shuffle(circles)\n",
    "        new_results = []\n",
    "        \n",
    "        for i in range(0, len(circles)-1):\n",
    "            if np.random.uniform(low=0, high=1, size=1) > proba:\n",
    "                continue\n",
    "                \n",
    "            new_circle = __cross(circles[i], circles[i+1])\n",
    "            new_results.append(new_circle)\n",
    "        \n",
    "        circles += new_results\n",
    "        \n",
    "        return circles\n",
    "    \n",
    "    \n",
    "    def mutate(self, proba=0.7):\n",
    "\n",
    "        def __move_left_down(rectangle, other_rectangles, radius, move_left=False, move_down=False):\n",
    "            if move_left:\n",
    "                delta_x = radius / 1000\n",
    "            else: \n",
    "                delta_x = 0\n",
    "\n",
    "            if move_down:\n",
    "                delta_y = radius / 1000\n",
    "            else:\n",
    "                delta_y = 0\n",
    "\n",
    "            r = deepcopy(rectangle)\n",
    "\n",
    "            while True:\n",
    "                r.move(move_right=-delta_x, move_up=-delta_y)\n",
    "\n",
    "                if not r.is_in_circle(radius):\n",
    "                    r.move(move_right=delta_x, move_up=delta_y)\n",
    "                    break\n",
    "\n",
    "                flag_is_int = False\n",
    "                for rectangle2 in other_rectangles:\n",
    "                    if r.is_intersection(rectangle2):\n",
    "                        flag_is_int = True\n",
    "                        r.move(move_right=delta_x, move_up=delta_y)\n",
    "                        break\n",
    "\n",
    "                if flag_is_int:\n",
    "                    break\n",
    "\n",
    "            return r\n",
    "        \n",
    "        def __rotate(rectangle, other_rectangles, radius):\n",
    "            \n",
    "            r = deepcopy(rectangle)\n",
    "            r.rotate()\n",
    "            \n",
    "            if not r.is_in_circle(radius):\n",
    "                return rectangle\n",
    "            \n",
    "            for rectangle2 in other_rectangles:\n",
    "                if r.is_intersection(rectangle2):\n",
    "                    return rectangle\n",
    "            \n",
    "            return r\n",
    "        \n",
    "        def __add_rectangle(possible_rectangle, radius, all_rectangles, rotate_proba=0.5):\n",
    "            \n",
    "            r_to_copy = deepcopy(possible_rectangle)\n",
    "            \n",
    "            if np.random.uniform(low=0, high=1, size=1) < rotate_proba:\n",
    "                r_to_copy.rotate()\n",
    "                \n",
    "            flag_add = False\n",
    "            for i in range(1000):\n",
    "                \n",
    "                r = deepcopy(r_to_copy)\n",
    "                    \n",
    "                move_right = random.uniform(-radius, radius)\n",
    "                move_up = random.uniform(-radius, radius)\n",
    "                r.move(move_right, move_up)\n",
    "                \n",
    "                if not r.is_in_circle(radius):\n",
    "                    continue\n",
    "                    \n",
    "                flag = False\n",
    "                for r2 in all_rectangles:\n",
    "                    if r.is_intersection(r2):\n",
    "                        flag = True\n",
    "                        break\n",
    "                if flag:\n",
    "                    continue\n",
    "                \n",
    "                return r\n",
    "            \n",
    "            return None\n",
    "        \n",
    "        for i, circle in enumerate(self.circles):\n",
    "            \n",
    "            if np.random.uniform(low=0, high=1, size=1) > proba:\n",
    "                continue\n",
    "                \n",
    "        # move left and down \n",
    "            r_idx = random.randint(0, len(circle.rectangles) - 1)\n",
    "            new_r = deepcopy(circle.rectangles[r_idx])\n",
    "            other_rectangles = circle.rectangles[:r_idx] + circle.rectangles[r_idx+1:]\n",
    "            while True:\n",
    "                new_r = __move_left_down(new_r, other_rectangles,\n",
    "                                         circle.radius, move_left=True, move_down=False)\n",
    "                new_r = __move_left_down(new_r, other_rectangles,\n",
    "                                         circle.radius, move_left=False, move_down=True)\n",
    "                \n",
    "                self.circles[i].rectangles[r_idx] = deepcopy(new_r)\n",
    "                war1 = abs(self.circles[i].rectangles[r_idx].x_left - new_r.x_left) < 0.00001\n",
    "                war2 = abs(self.circles[i].rectangles[r_idx].y_down - new_r.y_down) < 0.00001\n",
    "                #print(war1, war2)\n",
    "                if (war1 and war2):\n",
    "                    break\n",
    "            \n",
    "            # rotate\n",
    "            \n",
    "            r_idx = random.randint(0, len(circle.rectangles) - 1)\n",
    "            rectangle = deepcopy(circle.rectangles[r_idx])\n",
    "            other_rectangles = circle.rectangles[:r_idx] + circle.rectangles[r_idx+1:]\n",
    "            new_r = __rotate(rectangle, other_rectangles, circle.radius)\n",
    "            self.circles[i].rectangles[r_idx] = deepcopy(new_r)\n",
    "            \n",
    "            # add new rectangle\n",
    "            \n",
    "            possible_rectangle = deepcopy(random.choice(possible_rectangles))\n",
    "            new_r = __add_rectangle(possible_rectangle, circle.radius, circle.rectangles)\n",
    "            if new_r is not None:\n",
    "                self.circles[i].rectangles.append(deepcopy(new_r))\n",
    "                \n",
    "                \n",
    "    def selection(self):\n",
    "        \n",
    "        circles = deepcopy(self.circles)\n",
    "        circles += deepcopy(self.cross())\n",
    "        \n",
    "        scores = []\n",
    "        \n",
    "        for i, circle in enumerate(circles):\n",
    "            scores.append(circle.fitness_score())\n",
    "            \n",
    "        df = pd.DataFrame({'scores': scores})\n",
    "        df = df.sort_values(by='scores', ascending=False)\n",
    "        indices = list(df.index)\n",
    "\n",
    "        n = self.num_of_specimens\n",
    "\n",
    "        circles = np.array(circles)\n",
    "\n",
    "        new_circles = np.array([])\n",
    "        new_circles = np.append(new_circles, circles[indices[:int(0.02*n)]])\n",
    "\n",
    "        new_indices = random.sample(indices[int(0.02*n):int(0.2*n)], int(0.18*n*0.9))\n",
    "        new_circles = np.append(new_circles, circles[new_indices])\n",
    "\n",
    "        new_indices = random.sample(indices[int(0.2*n):int(0.6*n)], int(0.4*n*0.85))\n",
    "        new_circles = np.append(new_circles, circles[new_indices])\n",
    "\n",
    "        new_indices = random.sample(indices[int(0.6*n):int(n)], int(0.4*n*0.75))\n",
    "        new_circles = np.append(new_circles, circles[new_indices])\n",
    "\n",
    "        new_indices = random.sample(indices[int(n):], n-len(new_circles))\n",
    "        new_circles = np.append(new_circles, circles[new_indices])\n",
    "        \n",
    "        return list(new_circles)\n",
    "    \n",
    "    def epoch(self):\n",
    "        \n",
    "        self.mutate()\n",
    "        self.circles = deepcopy(self.selection())\n",
    "        \n",
    "        \n",
    "    def run(self, num_of_epochs):\n",
    "        for i in range(num_of_epochs):\n",
    "            print(f'{i+1} / {num_of_epochs}')\n",
    "            self.epoch()\n",
    "    \n",
    "        \n",
    "    def circle_with_max_score(self):\n",
    "        \n",
    "        scores = []\n",
    "        circles = deepcopy(self.circles)\n",
    "        \n",
    "        for i, circle in enumerate(circles):\n",
    "            scores.append(circle.fitness_score())\n",
    "            \n",
    "        df = pd.DataFrame({'scores': scores})\n",
    "        df = df.sort_values(by='scores', ascending=False)\n",
    "        indices = list(df.index)\n",
    "        \n",
    "        return deepcopy(circles[indices[0]])"
   ]
  },
  {
   "cell_type": "markdown",
   "id": "57ab2dc1",
   "metadata": {},
   "source": [
    "# R800"
   ]
  },
  {
   "cell_type": "code",
   "execution_count": null,
   "id": "69344f75",
   "metadata": {},
   "outputs": [],
   "source": [
    "r800 = pd.read_csv('cutting/r800.csv', header=None)"
   ]
  },
  {
   "cell_type": "code",
   "execution_count": null,
   "id": "b161788a",
   "metadata": {},
   "outputs": [],
   "source": [
    "possible_rectangles = []\n",
    "\n",
    "for i in range(r800.size//3):\n",
    "    w = r800[0][i]\n",
    "    h = r800[1][i]\n",
    "    v = r800[2][i]\n",
    "    possible_rectangles.append(Rectangle(w, h, v, 0, 0))"
   ]
  },
  {
   "cell_type": "code",
   "execution_count": null,
   "id": "161fe9ab",
   "metadata": {},
   "outputs": [],
   "source": [
    "for r in possible_rectangles:\n",
    "    print(r.value)"
   ]
  },
  {
   "cell_type": "code",
   "execution_count": null,
   "id": "2f053787",
   "metadata": {},
   "outputs": [],
   "source": [
    "P = Population(possible_rectangles, radius=800)\n",
    "P.initialize_circles(50)\n",
    "P.run(30)\n",
    "C = P.circle_with_max_score()\n",
    "C.plot_solution()"
   ]
  },
  {
   "cell_type": "code",
   "execution_count": null,
   "id": "60c6821f",
   "metadata": {},
   "outputs": [],
   "source": [
    "C.fitness_score()"
   ]
  },
  {
   "cell_type": "markdown",
   "id": "5551d4c7",
   "metadata": {},
   "source": [
    "# R850"
   ]
  },
  {
   "cell_type": "code",
   "execution_count": null,
   "id": "32bbf1da",
   "metadata": {},
   "outputs": [],
   "source": [
    "r850 = pd.read_csv('cutting/r850.csv', header=None)"
   ]
  },
  {
   "cell_type": "code",
   "execution_count": null,
   "id": "f9ed4b86",
   "metadata": {},
   "outputs": [],
   "source": [
    "possible_rectangles = []\n",
    "\n",
    "for i in range(r850.size//3):\n",
    "    w = r850[0][i]\n",
    "    h = r850[1][i]\n",
    "    v = r850[2][i]\n",
    "    possible_rectangles.append(Rectangle(w, h, v, 0, 0))"
   ]
  },
  {
   "cell_type": "code",
   "execution_count": null,
   "id": "7e80671d",
   "metadata": {},
   "outputs": [],
   "source": [
    "P2 = Population(possible_rectangles, radius=850)\n",
    "P2.initialize_circles(30)\n",
    "P2.run(50)\n",
    "C2 = P2.circle_with_max_score()\n",
    "C2.plot_solution()"
   ]
  },
  {
   "cell_type": "code",
   "execution_count": null,
   "id": "b4e4b635",
   "metadata": {},
   "outputs": [],
   "source": [
    "C2.fitness_score()"
   ]
  },
  {
   "cell_type": "markdown",
   "id": "2ba39d23",
   "metadata": {},
   "source": [
    "# R1000"
   ]
  },
  {
   "cell_type": "code",
   "execution_count": null,
   "id": "25750188",
   "metadata": {},
   "outputs": [],
   "source": [
    "r1000 = pd.read_csv('cutting/r1000.csv', header=None)"
   ]
  },
  {
   "cell_type": "code",
   "execution_count": null,
   "id": "f6c88974",
   "metadata": {},
   "outputs": [],
   "source": [
    "possible_rectangles = []\n",
    "\n",
    "for i in range(r1000.size//3):\n",
    "    w = r1000[0][i]\n",
    "    h = r1000[1][i]\n",
    "    v = r1000[2][i]\n",
    "    possible_rectangles.append(Rectangle(w, h, v, 0, 0))"
   ]
  },
  {
   "cell_type": "code",
   "execution_count": null,
   "id": "fbe8bfec",
   "metadata": {
    "scrolled": false
   },
   "outputs": [],
   "source": [
    "P3 = Population(possible_rectangles, radius=1000)\n",
    "P3.initialize_circles(30)\n",
    "P3.run(100)\n",
    "C3 = P3.circle_with_max_score()\n",
    "C3.plot_solution()"
   ]
  },
  {
   "cell_type": "code",
   "execution_count": null,
   "id": "c50c5e8a",
   "metadata": {},
   "outputs": [],
   "source": [
    "C3.fitness_score()"
   ]
  },
  {
   "cell_type": "markdown",
   "id": "2bcecc1b",
   "metadata": {},
   "source": [
    "# R1100"
   ]
  },
  {
   "cell_type": "code",
   "execution_count": null,
   "id": "c191b58b",
   "metadata": {},
   "outputs": [],
   "source": [
    "r1100 = pd.read_csv('cutting/r1100.csv', header=None)"
   ]
  },
  {
   "cell_type": "code",
   "execution_count": null,
   "id": "9e0ebeae",
   "metadata": {},
   "outputs": [],
   "source": [
    "possible_rectangles = []\n",
    "\n",
    "for i in range(r1100.size//3):\n",
    "    w = r1100[0][i]\n",
    "    h = r1100[1][i]\n",
    "    v = r1100[2][i]\n",
    "    possible_rectangles.append(Rectangle(w, h, v, 0, 0))"
   ]
  },
  {
   "cell_type": "code",
   "execution_count": null,
   "id": "013c35cc",
   "metadata": {},
   "outputs": [],
   "source": [
    "for r in possible_rectangles:\n",
    "    print(r.width, r.height, r.value, r.width*r.height, r.width*r.height/r.value)"
   ]
  },
  {
   "cell_type": "code",
   "execution_count": null,
   "id": "eb326eb9",
   "metadata": {},
   "outputs": [],
   "source": [
    "P4 = Population(possible_rectangles, radius=1100)\n",
    "P4.initialize_circles(30)\n",
    "P4.run(25)\n",
    "C4 = P4.circle_with_max_score()\n",
    "C4.plot_solution()"
   ]
  },
  {
   "cell_type": "code",
   "execution_count": null,
   "id": "1aeeb99f",
   "metadata": {},
   "outputs": [],
   "source": [
    "C4.fitness_score()"
   ]
  },
  {
   "cell_type": "markdown",
   "id": "3e2c0201",
   "metadata": {},
   "source": [
    "# R1200"
   ]
  },
  {
   "cell_type": "code",
   "execution_count": 5,
   "id": "b5070d03",
   "metadata": {},
   "outputs": [],
   "source": [
    "r1200 = pd.read_csv('cutting/r1200.csv', header=None)"
   ]
  },
  {
   "cell_type": "code",
   "execution_count": 6,
   "id": "31f615bc",
   "metadata": {},
   "outputs": [],
   "source": [
    "possible_rectangles = []\n",
    "\n",
    "for i in range(r1200.size//3):\n",
    "    w = r1200[0][i]\n",
    "    h = r1200[1][i]\n",
    "    v = r1200[2][i]\n",
    "    possible_rectangles.append(Rectangle(w, h, v, 0, 0))"
   ]
  },
  {
   "cell_type": "code",
   "execution_count": 9,
   "id": "8bdb0c5a",
   "metadata": {},
   "outputs": [
    {
     "name": "stdout",
     "output_type": "stream",
     "text": [
      "200\n",
      "300\n",
      "500\n",
      "40\n"
     ]
    }
   ],
   "source": [
    "for r in possible_rectangles:\n",
    "    print(r.value)"
   ]
  },
  {
   "cell_type": "code",
   "execution_count": 7,
   "id": "17bf026c",
   "metadata": {},
   "outputs": [
    {
     "name": "stdout",
     "output_type": "stream",
     "text": [
      "1 / 20\n",
      "2 / 20\n",
      "3 / 20\n",
      "4 / 20\n",
      "5 / 20\n",
      "6 / 20\n",
      "7 / 20\n",
      "8 / 20\n",
      "9 / 20\n",
      "10 / 20\n",
      "11 / 20\n",
      "12 / 20\n",
      "13 / 20\n",
      "14 / 20\n",
      "15 / 20\n",
      "16 / 20\n",
      "17 / 20\n",
      "18 / 20\n",
      "19 / 20\n",
      "20 / 20\n"
     ]
    },
    {
     "data": {
      "image/png": "[encoded data removed]",
      "text/plain": [
       "<Figure size 576x576 with 1 Axes>"
      ]
     },
     "metadata": {
      "needs_background": "light"
     },
     "output_type": "display_data"
    }
   ],
   "source": [
    "P5 = Population(possible_rectangles, radius=1200)\n",
    "P5.initialize_circles(30)\n",
    "P5.run(20)\n",
    "C5 = P5.circle_with_max_score()\n",
    "C5.plot_solution()"
   ]
  },
  {
   "cell_type": "code",
   "execution_count": 8,
   "id": "815c6c02",
   "metadata": {},
   "outputs": [
    {
     "data": {
      "text/plain": [
       "33100"
      ]
     },
     "execution_count": 8,
     "metadata": {},
     "output_type": "execute_result"
    }
   ],
   "source": [
    "C5.fitness_score()"
   ]
  },
  {
   "cell_type": "code",
   "execution_count": null,
   "id": "4a80270b",
   "metadata": {},
   "outputs": [],
   "source": []
  }
 ],
 "metadata": {
  "kernelspec": {
   "display_name": "Python 3 (ipykernel)",
   "language": "python",
   "name": "python3"
  },
  "language_info": {
   "codemirror_mode": {
    "name": "ipython",
    "version": 3
   },
   "file_extension": ".py",
   "mimetype": "text/x-python",
   "name": "python",
   "nbconvert_exporter": "python",
   "pygments_lexer": "ipython3",
   "version": "3.9.7"
  }
 },
 "nbformat": 4,
 "nbformat_minor": 5
}
