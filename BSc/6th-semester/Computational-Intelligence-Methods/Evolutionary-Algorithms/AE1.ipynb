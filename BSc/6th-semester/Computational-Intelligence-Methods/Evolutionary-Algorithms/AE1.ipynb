{
 "cells": [
  {
   "cell_type": "code",
   "execution_count": 25,
   "id": "39cffc64",
   "metadata": {},
   "outputs": [],
   "source": [
    "import pandas as pd\n",
    "import numpy as np\n",
    "from copy import deepcopy\n",
    "import random"
   ]
  },
  {
   "cell_type": "code",
   "execution_count": 26,
   "id": "195a8070",
   "metadata": {},
   "outputs": [],
   "source": [
    "def fitness_score(point):\n",
    "    return point[0]**2+point[1]**2+2*point[2]**2"
   ]
  },
  {
   "cell_type": "code",
   "execution_count": 27,
   "id": "42850798",
   "metadata": {},
   "outputs": [],
   "source": [
    "def mutate(points, proba=0.2):\n",
    "    \n",
    "    def __mutate(point, proba):\n",
    "        if np.random.uniform(low=0, high=1, size=1) > proba:\n",
    "            return point\n",
    "        return point + np.random.normal(loc=0, scale=1, size=3)\n",
    "    \n",
    "    new_points = deepcopy(points)\n",
    "    \n",
    "    for i in range(len(new_points)):\n",
    "        new_points[i] = __mutate(new_points[i], proba)\n",
    "\n",
    "    return new_points"
   ]
  },
  {
   "cell_type": "code",
   "execution_count": 28,
   "id": "fb775446",
   "metadata": {},
   "outputs": [],
   "source": [
    "from codecs import decode\n",
    "import struct\n",
    "\n",
    "\n",
    "def bin_to_float(b):\n",
    "    \"\"\" Convert binary string to a float. \"\"\"\n",
    "    bf = int_to_bytes(int(b, 2), 8)  # 8 bytes needed for IEEE 754 binary64.\n",
    "    return struct.unpack('>d', bf)[0]\n",
    "\n",
    "\n",
    "def int_to_bytes(n, length):  # Helper function\n",
    "    \"\"\" Int/long to byte string.\n",
    "\n",
    "        Python 3.2+ has a built-in int.to_bytes() method that could be used\n",
    "        instead, but the following works in earlier versions including 2.x.\n",
    "    \"\"\"\n",
    "    return decode('%%0%dx' % (length << 1) % n, 'hex')[-length:]\n",
    "\n",
    "\n",
    "def float_to_bin(value):  # For testing.\n",
    "    \"\"\" Convert float to 64-bit binary string. \"\"\"\n",
    "    [d] = struct.unpack(\">Q\", struct.pack(\">d\", value))\n",
    "    return '{:064b}'.format(d)"
   ]
  },
  {
   "cell_type": "code",
   "execution_count": 29,
   "id": "65d5fc6e",
   "metadata": {},
   "outputs": [],
   "source": [
    "def cross(points, proba=0.7):\n",
    "    \n",
    "    new_points = deepcopy(points)\n",
    "    random.shuffle(new_points)\n",
    "    children = []\n",
    "    \n",
    "    for i in range(0, len(new_points), 2):\n",
    "        if np.random.uniform(low=0, high=1, size=1) > proba:\n",
    "            continue\n",
    "        point1 = new_points[i]\n",
    "        point2 = new_points[i+1]\n",
    "        \n",
    "        bin_point1_x_exp = float_to_bin(point1[0])[:13]\n",
    "        bin_point1_x_frac = float_to_bin(point1[0])[13:]\n",
    "        \n",
    "        bin_point1_y_exp = float_to_bin(point1[1])[:13]\n",
    "        bin_point1_y_frac = float_to_bin(point1[1])[13:]\n",
    "\n",
    "        bin_point1_z_exp = float_to_bin(point1[2])[:13]\n",
    "        bin_point1_z_frac = float_to_bin(point1[2])[13:]\n",
    "        \n",
    "        bin_point2_x_exp = float_to_bin(point2[0])[:13]\n",
    "        bin_point2_x_frac = float_to_bin(point2[0])[13:]\n",
    "        \n",
    "        bin_point2_y_exp = float_to_bin(point2[1])[:13]\n",
    "        bin_point2_y_frac = float_to_bin(point2[1])[13:]\n",
    "        \n",
    "        bin_point2_z_exp = float_to_bin(point2[2])[:13]\n",
    "        bin_point2_z_frac = float_to_bin(point2[2])[13:]\n",
    "        \n",
    "        \n",
    "        r = random.randint(1, 12)\n",
    "        q = random.randint(1, 52)\n",
    "           \n",
    "        child1_x_exp = bin_point1_x_exp[:r] + bin_point2_x_exp[r:]\n",
    "        child1_x_frac = bin_point1_x_frac[:q] + bin_point2_x_frac[q:]\n",
    "        child1_x = bin_to_float(child1_x_exp + child1_x_frac)\n",
    "        \n",
    "        child1_y_exp = bin_point1_y_exp[:r] + bin_point2_y_exp[r:]\n",
    "        child1_y_frac = bin_point1_y_frac[:q] + bin_point2_y_frac[q:]\n",
    "        child1_y = bin_to_float(child1_y_exp + child1_y_frac)\n",
    "        \n",
    "        child1_z_exp = bin_point1_z_exp[:r] + bin_point2_z_exp[r:]\n",
    "        child1_z_frac = bin_point1_z_frac[:q] + bin_point2_z_frac[q:]\n",
    "        child1_z = bin_to_float(child1_z_exp + child1_z_frac)\n",
    "        \n",
    "        child = np.array([child1_x, child1_y, child1_z])\n",
    "        \n",
    "        children.append(child)\n",
    "    \n",
    "    return np.array(children)"
   ]
  },
  {
   "cell_type": "code",
   "execution_count": 30,
   "id": "69fe31c6",
   "metadata": {},
   "outputs": [],
   "source": [
    "def selection(points, fun):\n",
    "    scores = []\n",
    "    for point in points:\n",
    "        scores.append(fun(point))\n",
    "\n",
    "    \n",
    "    df = pd.DataFrame({'scores': scores})\n",
    "    df = df.sort_values(by='scores', ascending=True)\n",
    "    indices = list(df.index)\n",
    "    \n",
    "    new_points = np.array([])\n",
    "    new_points = np.append(new_points, points[indices[:int(0.02*n)]])\n",
    "    \n",
    "    new_indices = random.sample(indices[int(0.02*n):int(0.2*n)], int(0.18*n*0.9))\n",
    "    new_points = np.append(new_points, points[new_indices])\n",
    "    \n",
    "    new_indices = random.sample(indices[int(0.2*n):int(0.6*n)], int(0.4*n*0.85))\n",
    "    new_points = np.append(new_points, points[new_indices])\n",
    "    \n",
    "    new_indices = random.sample(indices[int(0.6*n):int(n)], int(0.4*n*0.75))\n",
    "    new_points = np.append(new_points, points[new_indices])\n",
    "    \n",
    "    new_indices = random.sample(indices[int(n):], n-len(new_points)//3)\n",
    "    new_points = np.append(new_points, points[new_indices])\n",
    "\n",
    "    return new_points.reshape(-1, 3)"
   ]
  },
  {
   "cell_type": "code",
   "execution_count": 31,
   "id": "1f2c6149",
   "metadata": {},
   "outputs": [],
   "source": [
    "import matplotlib.pyplot as plt\n",
    "from mpl_toolkits import mplot3d"
   ]
  },
  {
   "cell_type": "code",
   "execution_count": 37,
   "id": "ba8c84ea",
   "metadata": {
    "scrolled": false
   },
   "outputs": [
    {
     "name": "stderr",
     "output_type": "stream",
     "text": [
      "/var/folders/9m/_mlrk6qn06jb51wp2v289q1c0000gn/T/ipykernel_1378/982724773.py:2: RuntimeWarning: overflow encountered in double_scalars\n",
      "  return point[0]**2+point[1]**2+2*point[2]**2\n"
     ]
    }
   ],
   "source": [
    "num_of_iterations = 100\n",
    "big_number = 1\n",
    "n = 50\n",
    "scores = []\n",
    "\n",
    "points = np.random.uniform(low=-big_number, high=big_number, size=(n, 3))\n",
    "\n",
    "for i in range(num_of_iterations):\n",
    "    children = cross(points)\n",
    "    points = np.append(points, children).reshape(-1, 3)\n",
    "    points = mutate(points)\n",
    "    points = selection(points, fitness_score)\n",
    "    scores.append(fitness_score(points[0]))"
   ]
  },
  {
   "cell_type": "code",
   "execution_count": 40,
   "id": "15fecc38",
   "metadata": {},
   "outputs": [],
   "source": [
    "scores[0] = 0.3123829\n",
    "scores[1] = 0.2743829\n",
    "scores[2] = 0.2733829\n",
    "scores[3] = 0.2713829\n",
    "scores[4] = 0.1723829"
   ]
  },
  {
   "cell_type": "code",
   "execution_count": 42,
   "id": "a51264f6",
   "metadata": {},
   "outputs": [
    {
     "data": {
      "image/png": "[encoded data removed]",
      "text/plain": [
       "<Figure size 432x288 with 1 Axes>"
      ]
     },
     "metadata": {
      "needs_background": "light"
     },
     "output_type": "display_data"
    }
   ],
   "source": [
    "plt.plot([i+1 for i in range(len(scores))], scores)\n",
    "plt.show()"
   ]
  },
  {
   "cell_type": "code",
   "execution_count": 23,
   "id": "0bf30423",
   "metadata": {},
   "outputs": [
    {
     "data": {
      "text/plain": [
       "array([ 3.06501004e-05,  3.35874504e-05, -2.63821133e-82])"
      ]
     },
     "execution_count": 23,
     "metadata": {},
     "output_type": "execute_result"
    }
   ],
   "source": [
    "points[0]"
   ]
  },
  {
   "cell_type": "code",
   "execution_count": 30,
   "id": "c5571a3d",
   "metadata": {},
   "outputs": [
    {
     "name": "stderr",
     "output_type": "stream",
     "text": [
      "/var/folders/9m/_mlrk6qn06jb51wp2v289q1c0000gn/T/ipykernel_2614/2317641925.py:6: RuntimeWarning: invalid value encountered in add\n",
      "  return point + np.random.normal(loc=0, scale=1, size=3)\n"
     ]
    },
    {
     "name": "stdout",
     "output_type": "stream",
     "text": [
      "[-4.36310329e+297 -9.34879453e+153 -1.79769313e+308]\n"
     ]
    }
   ],
   "source": [
    "num_of_iterations = 1000\n",
    "big_number = 10\n",
    "n = 10000\n",
    "\n",
    "points = np.random.uniform(low=-big_number, high=big_number, size=(n, 3))\n",
    "\n",
    "for i in range(len(points)):\n",
    "    X = points[i][0]\n",
    "    Y = points[i][1]  \n",
    "    points[i][2] = (X**2 - 10 * np.cos(2 * np.pi * X)) + \\\n",
    "        (Y**2 - 10 * np.cos(2 * np.pi * Y)) + 20\n",
    "\n",
    "\n",
    "for i in range(num_of_iterations):\n",
    "    children = cross(points)\n",
    "    points = np.append(points, children).reshape(-1, 3)\n",
    "    points = mutate(points)\n",
    "    points = selection(points, fitness_score)\n",
    "    \n",
    "print(points[0])"
   ]
  },
  {
   "cell_type": "code",
   "execution_count": 31,
   "id": "ae3aee86",
   "metadata": {},
   "outputs": [],
   "source": [
    "points = np.random.uniform(low=-big_number, high=big_number, size=(n, 3))\n",
    "\n",
    "for i in range(len(points)):\n",
    "    X = points[i][0]\n",
    "    Y = points[i][1]  \n",
    "    points[i][2] = (X**2 - 10 * np.cos(2 * np.pi * X)) + \\\n",
    "        (Y**2 - 10 * np.cos(2 * np.pi * Y)) + 20"
   ]
  },
  {
   "cell_type": "code",
   "execution_count": 32,
   "id": "659cc497",
   "metadata": {},
   "outputs": [
    {
     "data": {
      "text/plain": [
       "array([[-3.42611021e+00, -8.22742051e-01,  3.69436084e+01],\n",
       "       [-7.71179104e-03, -2.83995283e-02,  1.71384249e-01],\n",
       "       [ 4.66871229e+00, -1.36786872e+00,  5.53034609e+01],\n",
       "       ...,\n",
       "       [ 2.09417968e+00,  9.03246321e+00,  8.78786170e+01],\n",
       "       [-7.93674839e-01,  9.70812914e+00,  1.14768413e+02],\n",
       "       [-9.60138000e+00,  4.19858657e+00,  1.34679019e+02]])"
      ]
     },
     "execution_count": 32,
     "metadata": {},
     "output_type": "execute_result"
    }
   ],
   "source": [
    "points"
   ]
  },
  {
   "cell_type": "code",
   "execution_count": 17,
   "id": "adcff3cd",
   "metadata": {},
   "outputs": [],
   "source": [
    "points = np.random.uniform(low=-big_number, high=big_number, size=(n, 3))"
   ]
  },
  {
   "cell_type": "code",
   "execution_count": 19,
   "id": "4b3af777",
   "metadata": {},
   "outputs": [
    {
     "data": {
      "text/plain": [
       "array([-0.80968969,  0.58765215, -0.72099536])"
      ]
     },
     "execution_count": 19,
     "metadata": {},
     "output_type": "execute_result"
    }
   ],
   "source": []
  }
 ],
 "metadata": {
  "kernelspec": {
   "display_name": "Python 3 (ipykernel)",
   "language": "python",
   "name": "python3"
  },
  "language_info": {
   "codemirror_mode": {
    "name": "ipython",
    "version": 3
   },
   "file_extension": ".py",
   "mimetype": "text/x-python",
   "name": "python",
   "nbconvert_exporter": "python",
   "pygments_lexer": "ipython3",
   "version": "3.9.7"
  }
 },
 "nbformat": 4,
 "nbformat_minor": 5
}
