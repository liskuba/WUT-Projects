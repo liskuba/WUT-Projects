{
 "cells": [
  {
   "cell_type": "code",
   "execution_count": 298,
   "id": "choice-williams",
   "metadata": {},
   "outputs": [],
   "source": [
    "import pandas as pd\n",
    "import numpy as np\n",
    "import random\n",
    "import warnings\n",
    "from copy import deepcopy\n",
    "warnings.filterwarnings('ignore')"
   ]
  },
  {
   "cell_type": "markdown",
   "id": "aging-survival",
   "metadata": {},
   "source": [
    "## Wczytanie danych"
   ]
  },
  {
   "cell_type": "code",
   "execution_count": 299,
   "id": "planned-affect",
   "metadata": {},
   "outputs": [
    {
     "data": {
      "text/html": [
       "<div>\n",
       "<style scoped>\n",
       "    .dataframe tbody tr th:only-of-type {\n",
       "        vertical-align: middle;\n",
       "    }\n",
       "\n",
       "    .dataframe tbody tr th {\n",
       "        vertical-align: top;\n",
       "    }\n",
       "\n",
       "    .dataframe thead th {\n",
       "        text-align: right;\n",
       "    }\n",
       "</style>\n",
       "<table border=\"1\" class=\"dataframe\">\n",
       "  <thead>\n",
       "    <tr style=\"text-align: right;\">\n",
       "      <th></th>\n",
       "      <th>lp</th>\n",
       "      <th>date</th>\n",
       "      <th>item_id</th>\n",
       "      <th>categories</th>\n",
       "      <th>pay_option_on_delivery</th>\n",
       "      <th>pay_option_transfer</th>\n",
       "      <th>seller</th>\n",
       "      <th>price</th>\n",
       "      <th>it_is_allegro_standard</th>\n",
       "      <th>it_quantity</th>\n",
       "      <th>it_is_brand_zone</th>\n",
       "      <th>it_seller_rating</th>\n",
       "      <th>it_location</th>\n",
       "      <th>main_category</th>\n",
       "    </tr>\n",
       "  </thead>\n",
       "  <tbody>\n",
       "    <tr>\n",
       "      <th>0</th>\n",
       "      <td>0</td>\n",
       "      <td>2016-04-03 21:21:08</td>\n",
       "      <td>4753602474</td>\n",
       "      <td>['Komputery', 'Dyski i napędy', 'Nośniki', 'No...</td>\n",
       "      <td>1</td>\n",
       "      <td>1</td>\n",
       "      <td>radzioch666</td>\n",
       "      <td>59.99</td>\n",
       "      <td>1</td>\n",
       "      <td>997</td>\n",
       "      <td>0</td>\n",
       "      <td>50177</td>\n",
       "      <td>Warszawa</td>\n",
       "      <td>Komputery</td>\n",
       "    </tr>\n",
       "    <tr>\n",
       "      <th>1</th>\n",
       "      <td>1</td>\n",
       "      <td>2016-04-03 15:35:26</td>\n",
       "      <td>4773181874</td>\n",
       "      <td>['Odzież, Obuwie, Dodatki', 'Bielizna damska',...</td>\n",
       "      <td>1</td>\n",
       "      <td>1</td>\n",
       "      <td>InwestycjeNET</td>\n",
       "      <td>4.90</td>\n",
       "      <td>1</td>\n",
       "      <td>9288</td>\n",
       "      <td>0</td>\n",
       "      <td>12428</td>\n",
       "      <td>Warszawa</td>\n",
       "      <td>Odzież, Obuwie, Dodatki</td>\n",
       "    </tr>\n",
       "    <tr>\n",
       "      <th>2</th>\n",
       "      <td>2</td>\n",
       "      <td>2016-04-03 14:14:31</td>\n",
       "      <td>4781627074</td>\n",
       "      <td>['Dom i Ogród', 'Budownictwo i Akcesoria', 'Śc...</td>\n",
       "      <td>1</td>\n",
       "      <td>1</td>\n",
       "      <td>otostyl_com</td>\n",
       "      <td>109.90</td>\n",
       "      <td>1</td>\n",
       "      <td>895</td>\n",
       "      <td>0</td>\n",
       "      <td>7389</td>\n",
       "      <td>Leszno</td>\n",
       "      <td>Dom i Ogród</td>\n",
       "    </tr>\n",
       "    <tr>\n",
       "      <th>3</th>\n",
       "      <td>3</td>\n",
       "      <td>2016-04-03 19:55:44</td>\n",
       "      <td>4783971474</td>\n",
       "      <td>['Książki i Komiksy', 'Poradniki i albumy', 'Z...</td>\n",
       "      <td>1</td>\n",
       "      <td>1</td>\n",
       "      <td>Matfel1</td>\n",
       "      <td>18.50</td>\n",
       "      <td>0</td>\n",
       "      <td>971</td>\n",
       "      <td>0</td>\n",
       "      <td>15006</td>\n",
       "      <td>Wola Krzysztoporska</td>\n",
       "      <td>Książki i Komiksy</td>\n",
       "    </tr>\n",
       "  </tbody>\n",
       "</table>\n",
       "</div>"
      ],
      "text/plain": [
       "   lp                 date     item_id  \\\n",
       "0   0  2016-04-03 21:21:08  4753602474   \n",
       "1   1  2016-04-03 15:35:26  4773181874   \n",
       "2   2  2016-04-03 14:14:31  4781627074   \n",
       "3   3  2016-04-03 19:55:44  4783971474   \n",
       "\n",
       "                                          categories  pay_option_on_delivery  \\\n",
       "0  ['Komputery', 'Dyski i napędy', 'Nośniki', 'No...                       1   \n",
       "1  ['Odzież, Obuwie, Dodatki', 'Bielizna damska',...                       1   \n",
       "2  ['Dom i Ogród', 'Budownictwo i Akcesoria', 'Śc...                       1   \n",
       "3  ['Książki i Komiksy', 'Poradniki i albumy', 'Z...                       1   \n",
       "\n",
       "   pay_option_transfer         seller   price  it_is_allegro_standard  \\\n",
       "0                    1    radzioch666   59.99                       1   \n",
       "1                    1  InwestycjeNET    4.90                       1   \n",
       "2                    1    otostyl_com  109.90                       1   \n",
       "3                    1        Matfel1   18.50                       0   \n",
       "\n",
       "   it_quantity  it_is_brand_zone  it_seller_rating          it_location  \\\n",
       "0          997                 0             50177             Warszawa   \n",
       "1         9288                 0             12428             Warszawa   \n",
       "2          895                 0              7389               Leszno   \n",
       "3          971                 0             15006  Wola Krzysztoporska   \n",
       "\n",
       "             main_category  \n",
       "0                Komputery  \n",
       "1  Odzież, Obuwie, Dodatki  \n",
       "2              Dom i Ogród  \n",
       "3        Książki i Komiksy  "
      ]
     },
     "execution_count": 299,
     "metadata": {},
     "output_type": "execute_result"
    }
   ],
   "source": [
    "data = pd.read_csv(\"allegro-api-transactions.csv\")\n",
    "data.head(4)"
   ]
  },
  {
   "cell_type": "code",
   "execution_count": 300,
   "id": "opponent-guinea",
   "metadata": {},
   "outputs": [
    {
     "name": "stdout",
     "output_type": "stream",
     "text": [
      "<class 'pandas.core.frame.DataFrame'>\n",
      "RangeIndex: 420020 entries, 0 to 420019\n",
      "Data columns (total 14 columns):\n",
      " #   Column                  Non-Null Count   Dtype  \n",
      "---  ------                  --------------   -----  \n",
      " 0   lp                      420020 non-null  int64  \n",
      " 1   date                    420020 non-null  object \n",
      " 2   item_id                 420020 non-null  int64  \n",
      " 3   categories              420020 non-null  object \n",
      " 4   pay_option_on_delivery  420020 non-null  int64  \n",
      " 5   pay_option_transfer     420020 non-null  int64  \n",
      " 6   seller                  420020 non-null  object \n",
      " 7   price                   420020 non-null  float64\n",
      " 8   it_is_allegro_standard  420020 non-null  int64  \n",
      " 9   it_quantity             420020 non-null  int64  \n",
      " 10  it_is_brand_zone        420020 non-null  int64  \n",
      " 11  it_seller_rating        420020 non-null  int64  \n",
      " 12  it_location             420020 non-null  object \n",
      " 13  main_category           420020 non-null  object \n",
      "dtypes: float64(1), int64(8), object(5)\n",
      "memory usage: 44.9+ MB\n"
     ]
    }
   ],
   "source": [
    "data.info()"
   ]
  },
  {
   "cell_type": "markdown",
   "id": "typical-administrator",
   "metadata": {},
   "source": [
    "## Kodowanie zmiennych kategorycznych"
   ]
  },
  {
   "cell_type": "code",
   "execution_count": 301,
   "id": "executive-extent",
   "metadata": {},
   "outputs": [],
   "source": [
    "import category_encoders as ce\n",
    "\n",
    "X = data.drop(columns = [\"price\"])\n",
    "y = data[\"price\"]"
   ]
  },
  {
   "cell_type": "markdown",
   "id": "automatic-benchmark",
   "metadata": {},
   "source": [
    "### Target Encoding"
   ]
  },
  {
   "cell_type": "code",
   "execution_count": 302,
   "id": "knowing-reference",
   "metadata": {},
   "outputs": [
    {
     "data": {
      "text/plain": [
       "0          85.423398\n",
       "1          85.423398\n",
       "2          61.990914\n",
       "3          35.433365\n",
       "4         117.191956\n",
       "             ...    \n",
       "420015     24.306929\n",
       "420016     66.785334\n",
       "420017     18.682800\n",
       "420018    106.203076\n",
       "420019     78.136792\n",
       "Name: it_location, Length: 420020, dtype: float64"
      ]
     },
     "execution_count": 302,
     "metadata": {},
     "output_type": "execute_result"
    }
   ],
   "source": [
    "encoder = ce.TargetEncoder(cols=[\"it_location\"])\n",
    "it_location_1 = encoder.fit(X, y).transform(X)[\"it_location\"]\n",
    "it_location_1"
   ]
  },
  {
   "cell_type": "markdown",
   "id": "swedish-homeless",
   "metadata": {},
   "source": [
    "Oczywistą przewagą target encoding nad one-hot jest wielkość jaką zajmuje. Zwróćmy uwagę, że jedną kolumnę zastępujemy także dokładnie jedną. Możemy sprawdzić, ile unikatowych wartości zawiera kolumna it_location, aby uświadomić sobie, ile nowych byśmy musieli posiadać gdybyśmy chcieli zastosować tutaj one-hot encoding:"
   ]
  },
  {
   "cell_type": "code",
   "execution_count": 303,
   "id": "greenhouse-security",
   "metadata": {},
   "outputs": [
    {
     "data": {
      "text/plain": [
       "10056"
      ]
     },
     "execution_count": 303,
     "metadata": {},
     "output_type": "execute_result"
    }
   ],
   "source": [
    "len(data[\"it_location\"].value_counts())"
   ]
  },
  {
   "cell_type": "markdown",
   "id": "continuing-collar",
   "metadata": {},
   "source": [
    "Raczej nie jesteśmy w stanie efektywnie operować na ramce danych zawierającej taką liczbę kolumn, a szczególnie, że it_location to nie jedyna kolumna, którą należy zakodować. Oczywiście jeśli się dobrze przyjrzymy kolumnie it_location, to zawiera ona na przykład \"Warszawa\" zapisane także jako \"WARSZAWA\" czy \"warszawa\" - wszystko to by można było porządnie przearanżować, także użyć znacznika \"Other\" dla rzadko występujących wartości i wtedy dopiero myśleć o kodowaniu poprzez one-hot encoding (bowiem jest on na pewno dokładniejszy, a korzystając z target encoding tracimy wiele informacji w kolumnie). Mimo to, nawet wtedy zajmuje on (one-hot) znacznie większe miejsce w pamięci i może spowodować wolniejsze obliczenia.\n",
    "\n",
    "### One-hot encoding\n",
    "\n",
    "Teraz zastosujemy metodę one-hot encoding, ale dla kolumny, która posiada o wiele mniej unikatowych wartości - main_category."
   ]
  },
  {
   "cell_type": "code",
   "execution_count": 304,
   "id": "universal-tragedy",
   "metadata": {},
   "outputs": [
    {
     "data": {
      "text/plain": [
       "Index(['lp', 'date', 'item_id', 'categories', 'pay_option_on_delivery',\n",
       "       'pay_option_transfer', 'seller', 'it_is_allegro_standard',\n",
       "       'it_quantity', 'it_is_brand_zone', 'it_seller_rating', 'it_location',\n",
       "       'main_category_1', 'main_category_2', 'main_category_3',\n",
       "       'main_category_4', 'main_category_5', 'main_category_6',\n",
       "       'main_category_7', 'main_category_8', 'main_category_9',\n",
       "       'main_category_10', 'main_category_11', 'main_category_12',\n",
       "       'main_category_13', 'main_category_14', 'main_category_15',\n",
       "       'main_category_16', 'main_category_17', 'main_category_18',\n",
       "       'main_category_19', 'main_category_20', 'main_category_21',\n",
       "       'main_category_22', 'main_category_23', 'main_category_24',\n",
       "       'main_category_25', 'main_category_26', 'main_category_27'],\n",
       "      dtype='object')"
      ]
     },
     "execution_count": 304,
     "metadata": {},
     "output_type": "execute_result"
    }
   ],
   "source": [
    "encoder = ce.OneHotEncoder(cols=[\"main_category\"])\n",
    "df_1 = encoder.fit(X, y).transform(X)\n",
    "df_1.columns"
   ]
  },
  {
   "cell_type": "markdown",
   "id": "aquatic-coating",
   "metadata": {},
   "source": [
    "Widzimy, że korzystając z one-hot encodingu otrzymujemy 27 nowych kolumn - jest to dosyć duża, ale jeszcze rozsądna liczba (szczególnie, że nie tracimy żadnych informacji w porównaniu do początkowych danych).\n",
    "\n",
    "### Count encoding"
   ]
  },
  {
   "cell_type": "code",
   "execution_count": 305,
   "id": "vertical-attribute",
   "metadata": {},
   "outputs": [
    {
     "data": {
      "text/plain": [
       "0         14491\n",
       "1         54257\n",
       "2         91042\n",
       "3         11572\n",
       "4         54257\n",
       "          ...  \n",
       "420015    20341\n",
       "420016    28096\n",
       "420017    54257\n",
       "420018    42107\n",
       "420019    45941\n",
       "Name: main_category, Length: 420020, dtype: int64"
      ]
     },
     "execution_count": 305,
     "metadata": {},
     "output_type": "execute_result"
    }
   ],
   "source": [
    "encoder = ce.CountEncoder(cols=[\"main_category\"])\n",
    "df_2 = encoder.fit(X, y).transform(X)\n",
    "df_2[\"main_category\"]"
   ]
  },
  {
   "cell_type": "markdown",
   "id": "ranging-wages",
   "metadata": {},
   "source": [
    "Count encoder działa na zasadzie zamienienia każdej wartości liczbą jej wystąpień w całej kolumnie, tzn. jeśli jakaś kategoria była w kolumnie 10000 razy, to po zakodowaniu będziemy mieli zamiast nazwy tej kategorii, właśnie taką liczbę. Taki sposób kodowania z zalet na pewno nie rozszerza nam ramki, ale aby miało ono sens muszą być odpowiednie do tego dane, wydaje się jakby w naszym przypadku takie kodowanie nie miało zbyt dużego sensu.\n",
    "\n",
    "### Leave One Out encoding"
   ]
  },
  {
   "cell_type": "code",
   "execution_count": 306,
   "id": "worse-lemon",
   "metadata": {},
   "outputs": [
    {
     "data": {
      "text/plain": [
       "0         121.810064\n",
       "1          75.858049\n",
       "2          72.434754\n",
       "3          25.027497\n",
       "4          75.858049\n",
       "             ...    \n",
       "420015    107.534272\n",
       "420016     28.128577\n",
       "420017     75.858049\n",
       "420018     71.206386\n",
       "420019    134.426801\n",
       "Name: main_category, Length: 420020, dtype: float64"
      ]
     },
     "execution_count": 306,
     "metadata": {},
     "output_type": "execute_result"
    }
   ],
   "source": [
    "encoder = ce.LeaveOneOutEncoder(cols=[\"main_category\"])\n",
    "df_3 = encoder.fit(X, y).transform(X)\n",
    "df_3[\"main_category\"]"
   ]
  },
  {
   "cell_type": "markdown",
   "id": "behavioral-vampire",
   "metadata": {},
   "source": [
    "Leave One Out Encoder działa w podobny sposób do Target Encoder, ale tak jak nazwa wskazuje, w obliczaniu wartości pomija target w danym wierszu.\n",
    "\n",
    "## Uzupełnianie braków"
   ]
  },
  {
   "cell_type": "code",
   "execution_count": 307,
   "id": "desperate-plaintiff",
   "metadata": {},
   "outputs": [],
   "source": [
    "random.seed(131)\n",
    "# ograniczymy naszą ramkę do 10000 wierszy w celu przyspieszenia obliczeń\n",
    "data = data[[\"price\", \"it_seller_rating\", \"it_quantity\"]].sample(10000).reset_index(drop=True)"
   ]
  },
  {
   "cell_type": "markdown",
   "id": "reliable-income",
   "metadata": {},
   "source": [
    "### Nearest Neighbors Imputation"
   ]
  },
  {
   "cell_type": "code",
   "execution_count": 308,
   "id": "herbal-award",
   "metadata": {},
   "outputs": [],
   "source": [
    "from sklearn.impute import KNNImputer\n",
    "from sklearn.metrics import mean_squared_error\n",
    "\n",
    "rmse = np.array([])\n",
    "\n",
    "for i in range(10):\n",
    "    df = deepcopy(data)\n",
    "    n = df.shape[0]\n",
    "    random_numbers = random.sample(list(df.index.values), k = n // 10)\n",
    "    df.loc[random_numbers, \"it_seller_rating\"] = np.nan\n",
    "    imputer = KNNImputer(n_neighbors = 10, weights = \"uniform\")\n",
    "    temp = imputer.fit_transform(df)\n",
    "    df = pd.DataFrame(temp, columns = data.columns)\n",
    "    y_true = data.loc[random_numbers, \"it_seller_rating\"]\n",
    "    y_pred = df.loc[random_numbers, \"it_seller_rating\"]\n",
    "    rmse = np.append(rmse, np.sqrt(mean_squared_error(y_true, y_pred)))"
   ]
  },
  {
   "cell_type": "markdown",
   "id": "invalid-implementation",
   "metadata": {},
   "source": [
    "Po wykonaniu eksperymentu 10-krotnie możemy wyświetlić otrzymane wartości RMSE:"
   ]
  },
  {
   "cell_type": "code",
   "execution_count": 309,
   "id": "genuine-expert",
   "metadata": {},
   "outputs": [
    {
     "name": "stdout",
     "output_type": "stream",
     "text": [
      "[35367.8848118  40936.86287889 41216.05691523 37177.88303544\n",
      " 39246.73353214 40816.11907607 35013.18104854 41674.81259192\n",
      " 39571.3277562  32806.32066383]\n"
     ]
    }
   ],
   "source": [
    "print(rmse)"
   ]
  },
  {
   "cell_type": "code",
   "execution_count": 310,
   "id": "scenic-marks",
   "metadata": {},
   "outputs": [
    {
     "data": {
      "text/plain": [
       "2940.424153502193"
      ]
     },
     "execution_count": 310,
     "metadata": {},
     "output_type": "execute_result"
    }
   ],
   "source": [
    "rmse.std()"
   ]
  },
  {
   "cell_type": "markdown",
   "id": "younger-roulette",
   "metadata": {},
   "source": [
    "Widzimy, że odchylenie standardowe 10 testów wynosi ok. 2940, czyli dosyć dużo.\n",
    "Powtórzymy jeszcze eksperyment, ale usuwając wartości z dwóch kolumn."
   ]
  },
  {
   "cell_type": "code",
   "execution_count": 311,
   "id": "artificial-westminster",
   "metadata": {},
   "outputs": [],
   "source": [
    "rmse2_SR = np.array([])\n",
    "rmse2_Q = np.array([])\n",
    "\n",
    "for i in range(10):\n",
    "    df = deepcopy(data)\n",
    "    n = df.shape[0]\n",
    "    random_numbers_1 = random.sample(list(df.index.values), k = n // 10)\n",
    "    random_numbers_2 = random.sample(list(df.index.values), k = n // 10)\n",
    "    df.loc[random_numbers_1, \"it_seller_rating\"] = np.nan\n",
    "    df.loc[random_numbers_2, \"it_quantity\"] = np.nan\n",
    "    imputer = KNNImputer(n_neighbors = 10, weights = \"uniform\")\n",
    "    temp = imputer.fit_transform(df)\n",
    "    df = pd.DataFrame(temp, columns = data.columns)\n",
    "    y_true_SR = data.loc[random_numbers_1, \"it_seller_rating\"]\n",
    "    y_pred_SR = df.loc[random_numbers_1, \"it_seller_rating\"]\n",
    "    rmse2_SR = np.append(rmse2_SR, np.sqrt(mean_squared_error(y_true_SR, y_pred_SR)))\n",
    "    y_true_Q = data.loc[random_numbers_1, \"it_quantity\"]\n",
    "    y_pred_Q = df.loc[random_numbers_1, \"it_quantity\"]\n",
    "    rmse2_Q = np.append(rmse2_Q, np.sqrt(mean_squared_error(y_true_Q, y_pred_Q)))"
   ]
  },
  {
   "cell_type": "markdown",
   "id": "inclusive-brunei",
   "metadata": {},
   "source": [
    "Możemy ponownie sprawdzić wartości RMSE oraz odchylenie standardowe tych wartości dla obu kolumn."
   ]
  },
  {
   "cell_type": "code",
   "execution_count": 312,
   "id": "liked-browser",
   "metadata": {},
   "outputs": [
    {
     "name": "stdout",
     "output_type": "stream",
     "text": [
      "[40281.43348112 44144.84120013 39343.4455265  37210.71699902\n",
      " 38931.66510083 40006.56927294 35043.68879247 39107.76662469\n",
      " 40427.38359642 42230.51735856]\n"
     ]
    }
   ],
   "source": [
    "print(rmse2_SR)"
   ]
  },
  {
   "cell_type": "code",
   "execution_count": 313,
   "id": "printable-winter",
   "metadata": {},
   "outputs": [
    {
     "data": {
      "text/plain": [
       "2367.6960304556424"
      ]
     },
     "execution_count": 313,
     "metadata": {},
     "output_type": "execute_result"
    }
   ],
   "source": [
    "rmse2_SR.std()"
   ]
  },
  {
   "cell_type": "code",
   "execution_count": 314,
   "id": "seven-jesus",
   "metadata": {},
   "outputs": [
    {
     "name": "stdout",
     "output_type": "stream",
     "text": [
      "[5903.41584724 5845.55712312 7195.88993642 8921.9836222  8975.09455488\n",
      " 7036.39872296 9830.90278556 7723.06932989 8142.57715745 7904.6293518 ]\n"
     ]
    }
   ],
   "source": [
    "print(rmse2_Q)"
   ]
  },
  {
   "cell_type": "code",
   "execution_count": 315,
   "id": "aging-albuquerque",
   "metadata": {},
   "outputs": [
    {
     "data": {
      "text/plain": [
       "1234.354467091027"
      ]
     },
     "execution_count": 315,
     "metadata": {},
     "output_type": "execute_result"
    }
   ],
   "source": [
    "rmse2_Q.std()"
   ]
  },
  {
   "cell_type": "markdown",
   "id": "resident-chicago",
   "metadata": {},
   "source": [
    "Aby zobaczyć lepsze porównanie otrzymanych wartości z obu eksperymentów stworzymy boxploty."
   ]
  },
  {
   "cell_type": "code",
   "execution_count": 316,
   "id": "related-scout",
   "metadata": {},
   "outputs": [
    {
     "data": {
      "image/png": "[encoded data removed]",
      "text/plain": [
       "<Figure size 792x432 with 1 Axes>"
      ]
     },
     "metadata": {
      "needs_background": "light"
     },
     "output_type": "display_data"
    }
   ],
   "source": [
    "import matplotlib.pyplot as plt\n",
    "fig, ax = plt.subplots(figsize=(11,6))\n",
    "bp = ax.boxplot([rmse, rmse2_SR])\n",
    "plt.show()"
   ]
  },
  {
   "cell_type": "markdown",
   "id": "resistant-triumph",
   "metadata": {},
   "source": [
    "### Podsumowanie"
   ]
  },
  {
   "cell_type": "markdown",
   "id": "amateur-charger",
   "metadata": {},
   "source": [
    "Przy ustawionym ziarnie losowości otrzymujemy, że wartości RMSE, gdy usuwaliśmy wartości tylko z jednej kolumny są przeciętnie niższe (mamy niższą wartość minimalną, maksymalną i wszystkie kwartyle) - czyli lepiej. Jest to zgodne z intuicją, że przy większych brakach w danych używane narzędzie będzie zachowywało się gorzej, ale przy ekspermentowaniu z ziarnem losowości tak naprawdę otrzymywałem wyniki raz takie, a raz takie, że w drugim eksperymencie braki zostały dopasowane lepiej (więc ciężko ocenić, czy braki w drugiej kolumnie realnie bardzo wpływają na zachowanie narzędzia).\n",
    "\n",
    "Podsumowując, używane narzędzie raczej nie spisało się dobrze, więc w takim przypadku jego używanie jest słabym pomysłem (zresztą nic dziwnego, ciężko ustalić \"it_seller_rating\" na podstawie nabardziej podobnych wierszy, gdy mamy dane kolumny tylko \"price\" i \"it_quantity\")."
   ]
  }
 ],
 "metadata": {
  "kernelspec": {
   "display_name": "Python 3",
   "language": "python",
   "name": "python3"
  },
  "language_info": {
   "codemirror_mode": {
    "name": "ipython",
    "version": 3
   },
   "file_extension": ".py",
   "mimetype": "text/x-python",
   "name": "python",
   "nbconvert_exporter": "python",
   "pygments_lexer": "ipython3",
   "version": "3.8.3"
  }
 },
 "nbformat": 4,
 "nbformat_minor": 5
}
