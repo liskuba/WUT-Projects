{
 "cells": [
  {
   "cell_type": "markdown",
   "id": "latin-carbon",
   "metadata": {},
   "source": [
    "# Praca domowa nr 3"
   ]
  },
  {
   "cell_type": "code",
   "execution_count": 183,
   "id": "curious-dialogue",
   "metadata": {},
   "outputs": [],
   "source": [
    "import numpy as np\n",
    "import pandas as pd\n",
    "from matplotlib import pyplot as plt\n",
    "from xgboost import XGBClassifier\n",
    "from sklearn.linear_model import LogisticRegression\n",
    "from sklearn.model_selection import train_test_split\n",
    "from sklearn.ensemble import RandomForestClassifier\n",
    "from sklearn.metrics import plot_confusion_matrix, classification_report\n",
    "from warnings import filterwarnings\n",
    "filterwarnings('ignore')"
   ]
  },
  {
   "cell_type": "markdown",
   "id": "driven-henry",
   "metadata": {},
   "source": [
    "## Wczytanie danych"
   ]
  },
  {
   "cell_type": "code",
   "execution_count": 184,
   "id": "superb-championship",
   "metadata": {},
   "outputs": [],
   "source": [
    "data = pd.read_csv(\"australia.csv\")"
   ]
  },
  {
   "cell_type": "code",
   "execution_count": 185,
   "id": "indirect-butter",
   "metadata": {},
   "outputs": [
    {
     "data": {
      "text/html": [
       "<div>\n",
       "<style scoped>\n",
       "    .dataframe tbody tr th:only-of-type {\n",
       "        vertical-align: middle;\n",
       "    }\n",
       "\n",
       "    .dataframe tbody tr th {\n",
       "        vertical-align: top;\n",
       "    }\n",
       "\n",
       "    .dataframe thead th {\n",
       "        text-align: right;\n",
       "    }\n",
       "</style>\n",
       "<table border=\"1\" class=\"dataframe\">\n",
       "  <thead>\n",
       "    <tr style=\"text-align: right;\">\n",
       "      <th></th>\n",
       "      <th>MinTemp</th>\n",
       "      <th>MaxTemp</th>\n",
       "      <th>Rainfall</th>\n",
       "      <th>Evaporation</th>\n",
       "      <th>Sunshine</th>\n",
       "      <th>WindGustSpeed</th>\n",
       "      <th>WindSpeed9am</th>\n",
       "      <th>WindSpeed3pm</th>\n",
       "      <th>Humidity9am</th>\n",
       "      <th>Humidity3pm</th>\n",
       "      <th>Pressure9am</th>\n",
       "      <th>Pressure3pm</th>\n",
       "      <th>Cloud9am</th>\n",
       "      <th>Cloud3pm</th>\n",
       "      <th>Temp9am</th>\n",
       "      <th>Temp3pm</th>\n",
       "      <th>RainToday</th>\n",
       "      <th>RainTomorrow</th>\n",
       "    </tr>\n",
       "  </thead>\n",
       "  <tbody>\n",
       "    <tr>\n",
       "      <th>0</th>\n",
       "      <td>17.9</td>\n",
       "      <td>35.2</td>\n",
       "      <td>0.0</td>\n",
       "      <td>12.0</td>\n",
       "      <td>12.3</td>\n",
       "      <td>48.0</td>\n",
       "      <td>6.0</td>\n",
       "      <td>20.0</td>\n",
       "      <td>20.0</td>\n",
       "      <td>13.0</td>\n",
       "      <td>1006.3</td>\n",
       "      <td>1004.4</td>\n",
       "      <td>2.0</td>\n",
       "      <td>5.0</td>\n",
       "      <td>26.6</td>\n",
       "      <td>33.4</td>\n",
       "      <td>0</td>\n",
       "      <td>0</td>\n",
       "    </tr>\n",
       "    <tr>\n",
       "      <th>1</th>\n",
       "      <td>18.4</td>\n",
       "      <td>28.9</td>\n",
       "      <td>0.0</td>\n",
       "      <td>14.8</td>\n",
       "      <td>13.0</td>\n",
       "      <td>37.0</td>\n",
       "      <td>19.0</td>\n",
       "      <td>19.0</td>\n",
       "      <td>30.0</td>\n",
       "      <td>8.0</td>\n",
       "      <td>1012.9</td>\n",
       "      <td>1012.1</td>\n",
       "      <td>1.0</td>\n",
       "      <td>1.0</td>\n",
       "      <td>20.3</td>\n",
       "      <td>27.0</td>\n",
       "      <td>0</td>\n",
       "      <td>0</td>\n",
       "    </tr>\n",
       "    <tr>\n",
       "      <th>2</th>\n",
       "      <td>19.4</td>\n",
       "      <td>37.6</td>\n",
       "      <td>0.0</td>\n",
       "      <td>10.8</td>\n",
       "      <td>10.6</td>\n",
       "      <td>46.0</td>\n",
       "      <td>30.0</td>\n",
       "      <td>15.0</td>\n",
       "      <td>42.0</td>\n",
       "      <td>22.0</td>\n",
       "      <td>1012.3</td>\n",
       "      <td>1009.2</td>\n",
       "      <td>1.0</td>\n",
       "      <td>6.0</td>\n",
       "      <td>28.7</td>\n",
       "      <td>34.9</td>\n",
       "      <td>0</td>\n",
       "      <td>0</td>\n",
       "    </tr>\n",
       "    <tr>\n",
       "      <th>3</th>\n",
       "      <td>21.9</td>\n",
       "      <td>38.4</td>\n",
       "      <td>0.0</td>\n",
       "      <td>11.4</td>\n",
       "      <td>12.2</td>\n",
       "      <td>31.0</td>\n",
       "      <td>6.0</td>\n",
       "      <td>6.0</td>\n",
       "      <td>37.0</td>\n",
       "      <td>22.0</td>\n",
       "      <td>1012.7</td>\n",
       "      <td>1009.1</td>\n",
       "      <td>1.0</td>\n",
       "      <td>5.0</td>\n",
       "      <td>29.1</td>\n",
       "      <td>35.6</td>\n",
       "      <td>0</td>\n",
       "      <td>0</td>\n",
       "    </tr>\n",
       "    <tr>\n",
       "      <th>4</th>\n",
       "      <td>24.2</td>\n",
       "      <td>41.0</td>\n",
       "      <td>0.0</td>\n",
       "      <td>11.2</td>\n",
       "      <td>8.4</td>\n",
       "      <td>35.0</td>\n",
       "      <td>17.0</td>\n",
       "      <td>13.0</td>\n",
       "      <td>19.0</td>\n",
       "      <td>15.0</td>\n",
       "      <td>1010.7</td>\n",
       "      <td>1007.4</td>\n",
       "      <td>1.0</td>\n",
       "      <td>6.0</td>\n",
       "      <td>33.6</td>\n",
       "      <td>37.6</td>\n",
       "      <td>0</td>\n",
       "      <td>0</td>\n",
       "    </tr>\n",
       "    <tr>\n",
       "      <th>...</th>\n",
       "      <td>...</td>\n",
       "      <td>...</td>\n",
       "      <td>...</td>\n",
       "      <td>...</td>\n",
       "      <td>...</td>\n",
       "      <td>...</td>\n",
       "      <td>...</td>\n",
       "      <td>...</td>\n",
       "      <td>...</td>\n",
       "      <td>...</td>\n",
       "      <td>...</td>\n",
       "      <td>...</td>\n",
       "      <td>...</td>\n",
       "      <td>...</td>\n",
       "      <td>...</td>\n",
       "      <td>...</td>\n",
       "      <td>...</td>\n",
       "      <td>...</td>\n",
       "    </tr>\n",
       "    <tr>\n",
       "      <th>56415</th>\n",
       "      <td>19.3</td>\n",
       "      <td>33.4</td>\n",
       "      <td>0.0</td>\n",
       "      <td>6.0</td>\n",
       "      <td>11.0</td>\n",
       "      <td>35.0</td>\n",
       "      <td>9.0</td>\n",
       "      <td>20.0</td>\n",
       "      <td>63.0</td>\n",
       "      <td>32.0</td>\n",
       "      <td>1013.9</td>\n",
       "      <td>1010.5</td>\n",
       "      <td>0.0</td>\n",
       "      <td>1.0</td>\n",
       "      <td>24.5</td>\n",
       "      <td>32.3</td>\n",
       "      <td>0</td>\n",
       "      <td>0</td>\n",
       "    </tr>\n",
       "    <tr>\n",
       "      <th>56416</th>\n",
       "      <td>21.2</td>\n",
       "      <td>32.6</td>\n",
       "      <td>0.0</td>\n",
       "      <td>7.6</td>\n",
       "      <td>8.6</td>\n",
       "      <td>37.0</td>\n",
       "      <td>13.0</td>\n",
       "      <td>11.0</td>\n",
       "      <td>56.0</td>\n",
       "      <td>28.0</td>\n",
       "      <td>1014.6</td>\n",
       "      <td>1011.2</td>\n",
       "      <td>7.0</td>\n",
       "      <td>0.0</td>\n",
       "      <td>24.8</td>\n",
       "      <td>32.0</td>\n",
       "      <td>0</td>\n",
       "      <td>0</td>\n",
       "    </tr>\n",
       "    <tr>\n",
       "      <th>56417</th>\n",
       "      <td>20.7</td>\n",
       "      <td>32.8</td>\n",
       "      <td>0.0</td>\n",
       "      <td>5.6</td>\n",
       "      <td>11.0</td>\n",
       "      <td>33.0</td>\n",
       "      <td>17.0</td>\n",
       "      <td>11.0</td>\n",
       "      <td>46.0</td>\n",
       "      <td>23.0</td>\n",
       "      <td>1015.3</td>\n",
       "      <td>1011.8</td>\n",
       "      <td>0.0</td>\n",
       "      <td>0.0</td>\n",
       "      <td>24.8</td>\n",
       "      <td>32.1</td>\n",
       "      <td>0</td>\n",
       "      <td>0</td>\n",
       "    </tr>\n",
       "    <tr>\n",
       "      <th>56418</th>\n",
       "      <td>19.5</td>\n",
       "      <td>31.8</td>\n",
       "      <td>0.0</td>\n",
       "      <td>6.2</td>\n",
       "      <td>10.6</td>\n",
       "      <td>26.0</td>\n",
       "      <td>9.0</td>\n",
       "      <td>17.0</td>\n",
       "      <td>62.0</td>\n",
       "      <td>58.0</td>\n",
       "      <td>1014.9</td>\n",
       "      <td>1010.7</td>\n",
       "      <td>1.0</td>\n",
       "      <td>1.0</td>\n",
       "      <td>24.8</td>\n",
       "      <td>29.2</td>\n",
       "      <td>0</td>\n",
       "      <td>0</td>\n",
       "    </tr>\n",
       "    <tr>\n",
       "      <th>56419</th>\n",
       "      <td>20.2</td>\n",
       "      <td>31.7</td>\n",
       "      <td>0.0</td>\n",
       "      <td>5.6</td>\n",
       "      <td>10.7</td>\n",
       "      <td>30.0</td>\n",
       "      <td>15.0</td>\n",
       "      <td>7.0</td>\n",
       "      <td>73.0</td>\n",
       "      <td>32.0</td>\n",
       "      <td>1013.9</td>\n",
       "      <td>1009.7</td>\n",
       "      <td>6.0</td>\n",
       "      <td>5.0</td>\n",
       "      <td>25.4</td>\n",
       "      <td>31.0</td>\n",
       "      <td>0</td>\n",
       "      <td>0</td>\n",
       "    </tr>\n",
       "  </tbody>\n",
       "</table>\n",
       "<p>56420 rows × 18 columns</p>\n",
       "</div>"
      ],
      "text/plain": [
       "       MinTemp  MaxTemp  Rainfall  Evaporation  Sunshine  WindGustSpeed  \\\n",
       "0         17.9     35.2       0.0         12.0      12.3           48.0   \n",
       "1         18.4     28.9       0.0         14.8      13.0           37.0   \n",
       "2         19.4     37.6       0.0         10.8      10.6           46.0   \n",
       "3         21.9     38.4       0.0         11.4      12.2           31.0   \n",
       "4         24.2     41.0       0.0         11.2       8.4           35.0   \n",
       "...        ...      ...       ...          ...       ...            ...   \n",
       "56415     19.3     33.4       0.0          6.0      11.0           35.0   \n",
       "56416     21.2     32.6       0.0          7.6       8.6           37.0   \n",
       "56417     20.7     32.8       0.0          5.6      11.0           33.0   \n",
       "56418     19.5     31.8       0.0          6.2      10.6           26.0   \n",
       "56419     20.2     31.7       0.0          5.6      10.7           30.0   \n",
       "\n",
       "       WindSpeed9am  WindSpeed3pm  Humidity9am  Humidity3pm  Pressure9am  \\\n",
       "0               6.0          20.0         20.0         13.0       1006.3   \n",
       "1              19.0          19.0         30.0          8.0       1012.9   \n",
       "2              30.0          15.0         42.0         22.0       1012.3   \n",
       "3               6.0           6.0         37.0         22.0       1012.7   \n",
       "4              17.0          13.0         19.0         15.0       1010.7   \n",
       "...             ...           ...          ...          ...          ...   \n",
       "56415           9.0          20.0         63.0         32.0       1013.9   \n",
       "56416          13.0          11.0         56.0         28.0       1014.6   \n",
       "56417          17.0          11.0         46.0         23.0       1015.3   \n",
       "56418           9.0          17.0         62.0         58.0       1014.9   \n",
       "56419          15.0           7.0         73.0         32.0       1013.9   \n",
       "\n",
       "       Pressure3pm  Cloud9am  Cloud3pm  Temp9am  Temp3pm  RainToday  \\\n",
       "0           1004.4       2.0       5.0     26.6     33.4          0   \n",
       "1           1012.1       1.0       1.0     20.3     27.0          0   \n",
       "2           1009.2       1.0       6.0     28.7     34.9          0   \n",
       "3           1009.1       1.0       5.0     29.1     35.6          0   \n",
       "4           1007.4       1.0       6.0     33.6     37.6          0   \n",
       "...            ...       ...       ...      ...      ...        ...   \n",
       "56415       1010.5       0.0       1.0     24.5     32.3          0   \n",
       "56416       1011.2       7.0       0.0     24.8     32.0          0   \n",
       "56417       1011.8       0.0       0.0     24.8     32.1          0   \n",
       "56418       1010.7       1.0       1.0     24.8     29.2          0   \n",
       "56419       1009.7       6.0       5.0     25.4     31.0          0   \n",
       "\n",
       "       RainTomorrow  \n",
       "0                 0  \n",
       "1                 0  \n",
       "2                 0  \n",
       "3                 0  \n",
       "4                 0  \n",
       "...             ...  \n",
       "56415             0  \n",
       "56416             0  \n",
       "56417             0  \n",
       "56418             0  \n",
       "56419             0  \n",
       "\n",
       "[56420 rows x 18 columns]"
      ]
     },
     "execution_count": 185,
     "metadata": {},
     "output_type": "execute_result"
    }
   ],
   "source": [
    "data"
   ]
  },
  {
   "cell_type": "markdown",
   "id": "right-belfast",
   "metadata": {},
   "source": [
    "## Podział danych na zbiór treningowy i testowy"
   ]
  },
  {
   "cell_type": "code",
   "execution_count": 186,
   "id": "informed-drive",
   "metadata": {},
   "outputs": [],
   "source": [
    "X = data.drop(\"RainTomorrow\", axis = 1)\n",
    "y = data.RainTomorrow"
   ]
  },
  {
   "cell_type": "markdown",
   "id": "polish-cancellation",
   "metadata": {},
   "source": [
    "Sprawdzimy jak często występuje wartość \"1\" w kolumnie RainTomorrow"
   ]
  },
  {
   "cell_type": "code",
   "execution_count": 187,
   "id": "determined-income",
   "metadata": {},
   "outputs": [
    {
     "data": {
      "text/plain": [
       "0    0.779741\n",
       "1    0.220259\n",
       "Name: RainTomorrow, dtype: float64"
      ]
     },
     "execution_count": 187,
     "metadata": {},
     "output_type": "execute_result"
    }
   ],
   "source": [
    "y.value_counts(normalize = True)"
   ]
  },
  {
   "cell_type": "markdown",
   "id": "prostate-faith",
   "metadata": {},
   "source": [
    "Widać, że rozkład wartości nie jest równomierny, dlatego zastosowanie różnych miar ma duże uzasadnienie. Częściej występującą wartością jest 0, dlatego samo używanie accuracy może prowadzić do złego wyboru modelu."
   ]
  },
  {
   "cell_type": "code",
   "execution_count": 188,
   "id": "refined-louisiana",
   "metadata": {},
   "outputs": [],
   "source": [
    "X_train, X_test, y_train, y_test = train_test_split(X, y, test_size = 0.3, random_state = 42)"
   ]
  },
  {
   "cell_type": "markdown",
   "id": "twelve-prayer",
   "metadata": {},
   "source": [
    "## Random Forest"
   ]
  },
  {
   "cell_type": "code",
   "execution_count": 189,
   "id": "exterior-thermal",
   "metadata": {},
   "outputs": [
    {
     "data": {
      "text/plain": [
       "RandomForestClassifier(max_depth=7, max_features=4, min_samples_split=3,\n",
       "                       n_estimators=400, random_state=0)"
      ]
     },
     "execution_count": 189,
     "metadata": {},
     "output_type": "execute_result"
    }
   ],
   "source": [
    "rf = RandomForestClassifier(n_estimators = 400, max_depth = 7, min_samples_split = 3,\n",
    "                                  max_features = 4, random_state = 0)\n",
    "rf.fit(X_train, y_train)"
   ]
  },
  {
   "cell_type": "code",
   "execution_count": 190,
   "id": "indirect-capability",
   "metadata": {},
   "outputs": [],
   "source": [
    "#  Stworzymy generującą różne oceny jakości, aby móc jej używać także do następnych klasyfikatów \n",
    "\n",
    "def report(classifier, X, y):\n",
    "    y_pred = classifier.predict(X)\n",
    "    report = classification_report(y, y_pred, output_dict = True)\n",
    "    scores = {}\n",
    "    scores['accuracy'] = report['accuracy']\n",
    "    scores['precision'] = report['macro avg']['precision']  # bierzemy średnią z precision dla wartości '0' i '1'\n",
    "    scores['recall'] = report['macro avg']['recall']\n",
    "    scores['f1-score'] = report['macro avg']['f1-score']\n",
    "    return scores"
   ]
  },
  {
   "cell_type": "code",
   "execution_count": 191,
   "id": "academic-drove",
   "metadata": {},
   "outputs": [],
   "source": [
    "#  Ponadto, tworzymy słownik, w którym zawrzemy wszystkie scores uzyskane przez wybrane klasyfikatory\n",
    "\n",
    "scores = {}\n",
    "scores['rf'] = report(rf, X_test, y_test)"
   ]
  },
  {
   "cell_type": "markdown",
   "id": "cathedral-register",
   "metadata": {},
   "source": [
    "Możemy podejrzeć uzyskane wartości:"
   ]
  },
  {
   "cell_type": "code",
   "execution_count": 192,
   "id": "conservative-conditioning",
   "metadata": {},
   "outputs": [
    {
     "name": "stdout",
     "output_type": "stream",
     "text": [
      "accuracy:   84.99\n",
      "precision:  81.58\n",
      "recall:     71.31\n",
      "f1-score:   74.46\n"
     ]
    }
   ],
   "source": [
    "for k, v in scores['rf'].items():\n",
    "    n = 15 - len(k)\n",
    "    print(f'{k}: {v*100 : {n}.2f}')"
   ]
  },
  {
   "cell_type": "markdown",
   "id": "worse-binary",
   "metadata": {},
   "source": [
    "Dodatkowo stworzymy confusion matrix dla naszego klasyfikatora:"
   ]
  },
  {
   "cell_type": "code",
   "execution_count": 193,
   "id": "military-bulletin",
   "metadata": {},
   "outputs": [
    {
     "data": {
      "image/png": "[encoded data removed]",
      "text/plain": [
       "<Figure size 432x288 with 2 Axes>"
      ]
     },
     "metadata": {
      "needs_background": "light"
     },
     "output_type": "display_data"
    }
   ],
   "source": [
    "plot_confusion_matrix(rf, X_test, y_test, normalize = 'true')  \n",
    "plt.show()"
   ]
  },
  {
   "cell_type": "markdown",
   "id": "rising-video",
   "metadata": {},
   "source": [
    "Widać, że nasz klasyfikator dobrze sobie radzi z przewidzeniem, że następnego dnia nie będzie padać. Natomiast częściej sie myli niż przewiduje poprawnie, gdy następnego dnia pada deszcz (a wydaje się, że poprawne przewidywanie takich dni jest ważniejsze)."
   ]
  },
  {
   "cell_type": "markdown",
   "id": "configured-hardwood",
   "metadata": {},
   "source": [
    "## Logistic Regression"
   ]
  },
  {
   "cell_type": "code",
   "execution_count": 194,
   "id": "moved-flash",
   "metadata": {},
   "outputs": [],
   "source": [
    "lr = LogisticRegression(random_state = 42, C = 0.9, max_iter = 1000)\n",
    "lr.fit(X_train, y_train)\n",
    "scores['lr'] = report(lr, X_test, y_test)"
   ]
  },
  {
   "cell_type": "code",
   "execution_count": 195,
   "id": "worth-keyboard",
   "metadata": {},
   "outputs": [
    {
     "name": "stdout",
     "output_type": "stream",
     "text": [
      "accuracy:   85.51\n",
      "precision:  80.99\n",
      "recall:     74.02\n",
      "f1-score:   76.57\n"
     ]
    }
   ],
   "source": [
    "for k, v in scores['lr'].items():\n",
    "    n = 15 - len(k)\n",
    "    print(f'{k}: {v*100 : {n}.2f}')"
   ]
  },
  {
   "cell_type": "markdown",
   "id": "organized-vienna",
   "metadata": {},
   "source": [
    "W porównaniu z RandomForest uzyskaliśmy wyższe accuracy, ale już niższe precision. Wyniki dla Logistic Regression wydaję się jednak lepsze. Stwórzmy jeszcze tak jak poprzednio confusion matrix:"
   ]
  },
  {
   "cell_type": "code",
   "execution_count": 196,
   "id": "compatible-sydney",
   "metadata": {},
   "outputs": [
    {
     "data": {
      "image/png": "[encoded data removed]",
      "text/plain": [
       "<Figure size 432x288 with 2 Axes>"
      ]
     },
     "metadata": {
      "needs_background": "light"
     },
     "output_type": "display_data"
    }
   ],
   "source": [
    "plot_confusion_matrix(lr, X_test, y_test, normalize = 'true')  \n",
    "plt.show()"
   ]
  },
  {
   "cell_type": "markdown",
   "id": "shaped-punch",
   "metadata": {},
   "source": [
    "Znów okazuje się, że przewidywanie wartości '1' jest niełatwym zadaniem także dla LogisticRegression, ale rzeczywiście klasyfikator ten poradził sobie trochę lepiej od poprzedniego."
   ]
  },
  {
   "cell_type": "markdown",
   "id": "surgical-pricing",
   "metadata": {},
   "source": [
    "## XGBoost"
   ]
  },
  {
   "cell_type": "code",
   "execution_count": 197,
   "id": "mathematical-oriental",
   "metadata": {},
   "outputs": [
    {
     "name": "stdout",
     "output_type": "stream",
     "text": [
      "[00:37:55] WARNING: /Users/travis/build/dmlc/xgboost/src/learner.cc:1061: Starting in XGBoost 1.3.0, the default evaluation metric used with the objective 'binary:logistic' was changed from 'error' to 'logloss'. Explicitly set eval_metric if you'd like to restore the old behavior.\n"
     ]
    }
   ],
   "source": [
    "xgb = XGBClassifier(random_state = 42, learning_rate = 0.07, booster = 'gbtree', max_depth = 11)\n",
    "xgb.fit(X_train, y_train)\n",
    "scores['xgb'] = report(xgb, X_test, y_test)"
   ]
  },
  {
   "cell_type": "code",
   "execution_count": 198,
   "id": "reserved-magazine",
   "metadata": {},
   "outputs": [
    {
     "name": "stdout",
     "output_type": "stream",
     "text": [
      "accuracy:   85.84\n",
      "precision:  81.19\n",
      "recall:     75.14\n",
      "f1-score:   77.46\n"
     ]
    }
   ],
   "source": [
    "for k, v in scores['xgb'].items():\n",
    "    n = 15 - len(k)\n",
    "    print(f'{k}: {v*100 : {n}.2f}')"
   ]
  },
  {
   "cell_type": "markdown",
   "id": "caring-combat",
   "metadata": {},
   "source": [
    "Otrzymane wyniki wyglądają jak najlepsze do tej pory, ale jeszcze zestawimy wszystkie na jednym wykresie dla prostszego porównywania, na razie możemy standardowo utworzyć confusion matrix:"
   ]
  },
  {
   "cell_type": "code",
   "execution_count": 199,
   "id": "suffering-tribute",
   "metadata": {},
   "outputs": [
    {
     "data": {
      "image/png": "[encoded data removed]",
      "text/plain": [
       "<Figure size 432x288 with 2 Axes>"
      ]
     },
     "metadata": {
      "needs_background": "light"
     },
     "output_type": "display_data"
    }
   ],
   "source": [
    "plot_confusion_matrix(xgb, X_test, y_test, normalize = 'true')  \n",
    "plt.show()"
   ]
  },
  {
   "cell_type": "markdown",
   "id": "organized-controversy",
   "metadata": {},
   "source": [
    "## Wybór najlepszego klasyfikatora"
   ]
  },
  {
   "cell_type": "markdown",
   "id": "durable-stake",
   "metadata": {},
   "source": [
    "Na początek możemy wyświetlić tabelę ze wszystkimi otrzymanymi wartościami."
   ]
  },
  {
   "cell_type": "code",
   "execution_count": 200,
   "id": "christian-bracket",
   "metadata": {},
   "outputs": [
    {
     "data": {
      "text/html": [
       "<div>\n",
       "<style scoped>\n",
       "    .dataframe tbody tr th:only-of-type {\n",
       "        vertical-align: middle;\n",
       "    }\n",
       "\n",
       "    .dataframe tbody tr th {\n",
       "        vertical-align: top;\n",
       "    }\n",
       "\n",
       "    .dataframe thead th {\n",
       "        text-align: right;\n",
       "    }\n",
       "</style>\n",
       "<table border=\"1\" class=\"dataframe\">\n",
       "  <thead>\n",
       "    <tr style=\"text-align: right;\">\n",
       "      <th></th>\n",
       "      <th>rf</th>\n",
       "      <th>lr</th>\n",
       "      <th>xgb</th>\n",
       "    </tr>\n",
       "  </thead>\n",
       "  <tbody>\n",
       "    <tr>\n",
       "      <th>accuracy</th>\n",
       "      <td>0.849935</td>\n",
       "      <td>0.855075</td>\n",
       "      <td>0.858384</td>\n",
       "    </tr>\n",
       "    <tr>\n",
       "      <th>precision</th>\n",
       "      <td>0.815799</td>\n",
       "      <td>0.809937</td>\n",
       "      <td>0.811902</td>\n",
       "    </tr>\n",
       "    <tr>\n",
       "      <th>recall</th>\n",
       "      <td>0.713090</td>\n",
       "      <td>0.740240</td>\n",
       "      <td>0.751358</td>\n",
       "    </tr>\n",
       "    <tr>\n",
       "      <th>f1-score</th>\n",
       "      <td>0.744601</td>\n",
       "      <td>0.765724</td>\n",
       "      <td>0.774612</td>\n",
       "    </tr>\n",
       "  </tbody>\n",
       "</table>\n",
       "</div>"
      ],
      "text/plain": [
       "                 rf        lr       xgb\n",
       "accuracy   0.849935  0.855075  0.858384\n",
       "precision  0.815799  0.809937  0.811902\n",
       "recall     0.713090  0.740240  0.751358\n",
       "f1-score   0.744601  0.765724  0.774612"
      ]
     },
     "execution_count": 200,
     "metadata": {},
     "output_type": "execute_result"
    }
   ],
   "source": [
    "df = pd.DataFrame(scores)\n",
    "df"
   ]
  },
  {
   "cell_type": "markdown",
   "id": "optional-sewing",
   "metadata": {},
   "source": [
    "Może się jednak przydać też stworzenie wykresu lepiej pokazującego porównanie otrzymanych ocen jakości klasyfikatorów."
   ]
  },
  {
   "cell_type": "code",
   "execution_count": 201,
   "id": "korean-butterfly",
   "metadata": {},
   "outputs": [
    {
     "data": {
      "image/png": "[encoded data removed]",
      "text/plain": [
       "<Figure size 864x576 with 1 Axes>"
      ]
     },
     "metadata": {
      "needs_background": "light"
     },
     "output_type": "display_data"
    }
   ],
   "source": [
    "labels = list(scores.keys())\n",
    "accuracy = list(df.loc['accuracy'])\n",
    "precision = list(df.loc['precision'])\n",
    "recall = list(df.loc['recall'])\n",
    "f1_score = list(df.loc['f1-score'])\n",
    "\n",
    "x = np.arange(len(labels))\n",
    "width = 0.15\n",
    "\n",
    "fig, ax = plt.subplots(figsize = (12, 8))\n",
    "rects1 = ax.bar(x - 3 * width / 2, accuracy, width, color = '#ffe227', label = 'accuracy')\n",
    "rects2 = ax.bar(x - width / 2, precision, width, color = '#eb596e', label = 'precision')\n",
    "rects3 = ax.bar(x + width / 2, recall, width, color = '#4d375d', label = 'precision')\n",
    "rects4 = ax.bar(x + 3 * width / 2, f1_score, width, color = '#121013', label = 'f1-score')\n",
    "\n",
    "ax.set_ylabel('Scores', size = 17)\n",
    "ax.set_xticks(x)\n",
    "ax.set_xticklabels(labels, size = 17)\n",
    "ax.legend()\n",
    "ax.set_ylim([0, 1])\n",
    "fig.tight_layout()\n",
    "\n",
    "plt.show()"
   ]
  },
  {
   "cell_type": "markdown",
   "id": "major-lunch",
   "metadata": {},
   "source": [
    "Można powiedzieć, że każdy z klasyfikatorów radzi sobie niemalże identycznie - niewielkie różnice można zauważyć w tabeli. XGBoost ma najwyższe accuracy oraz najwyższe f1-score (które uwzględia wewnątrz siebie i precision, i recall, dlatego jest najbardziej miarodajną oceną do porównywania pomiędzy modelami). Z tego względu wybrałbym właśnie ten klasyfiator."
   ]
  }
 ],
 "metadata": {
  "kernelspec": {
   "display_name": "Python 3",
   "language": "python",
   "name": "python3"
  },
  "language_info": {
   "codemirror_mode": {
    "name": "ipython",
    "version": 3
   },
   "file_extension": ".py",
   "mimetype": "text/x-python",
   "name": "python",
   "nbconvert_exporter": "python",
   "pygments_lexer": "ipython3",
   "version": "3.8.3"
  }
 },
 "nbformat": 4,
 "nbformat_minor": 5
}
