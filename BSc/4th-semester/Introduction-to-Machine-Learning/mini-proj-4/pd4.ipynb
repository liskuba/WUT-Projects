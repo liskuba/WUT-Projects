{
 "cells": [
  {
   "cell_type": "markdown",
   "id": "prime-cabin",
   "metadata": {},
   "source": [
    "# Praca domowa 4\n",
    "#### Jakub Lis"
   ]
  },
  {
   "cell_type": "markdown",
   "id": "beneficial-plastic",
   "metadata": {},
   "source": [
    "## Wczytanie pakietów"
   ]
  },
  {
   "cell_type": "code",
   "execution_count": 21,
   "id": "irish-duration",
   "metadata": {},
   "outputs": [],
   "source": [
    "# pip install dalex -U\n",
    "import dalex as dx\n",
    "import numpy as np\n",
    "import pandas as pd\n",
    "from sklearn.preprocessing import MinMaxScaler\n",
    "from sklearn.model_selection import train_test_split, RandomizedSearchCV\n",
    "from sklearn.svm import SVR\n",
    "from sklearn.datasets import load_wine\n",
    "from sklearn.metrics import mean_squared_error\n",
    "import warnings\n",
    "warnings.filterwarnings('ignore')"
   ]
  },
  {
   "cell_type": "markdown",
   "id": "metric-mason",
   "metadata": {},
   "source": [
    "## Wczytanie zbiorów danych"
   ]
  },
  {
   "cell_type": "code",
   "execution_count": 22,
   "id": "adjusted-clerk",
   "metadata": {},
   "outputs": [],
   "source": [
    "data = dx.datasets.load_apartments()"
   ]
  },
  {
   "cell_type": "code",
   "execution_count": 23,
   "id": "adjacent-aviation",
   "metadata": {},
   "outputs": [
    {
     "data": {
      "text/html": [
       "<div>\n",
       "<style scoped>\n",
       "    .dataframe tbody tr th:only-of-type {\n",
       "        vertical-align: middle;\n",
       "    }\n",
       "\n",
       "    .dataframe tbody tr th {\n",
       "        vertical-align: top;\n",
       "    }\n",
       "\n",
       "    .dataframe thead th {\n",
       "        text-align: right;\n",
       "    }\n",
       "</style>\n",
       "<table border=\"1\" class=\"dataframe\">\n",
       "  <thead>\n",
       "    <tr style=\"text-align: right;\">\n",
       "      <th></th>\n",
       "      <th>m2_price</th>\n",
       "      <th>construction_year</th>\n",
       "      <th>surface</th>\n",
       "      <th>floor</th>\n",
       "      <th>no_rooms</th>\n",
       "      <th>district</th>\n",
       "    </tr>\n",
       "  </thead>\n",
       "  <tbody>\n",
       "    <tr>\n",
       "      <th>1</th>\n",
       "      <td>5897</td>\n",
       "      <td>1953</td>\n",
       "      <td>25</td>\n",
       "      <td>3</td>\n",
       "      <td>1</td>\n",
       "      <td>Srodmiescie</td>\n",
       "    </tr>\n",
       "    <tr>\n",
       "      <th>2</th>\n",
       "      <td>1818</td>\n",
       "      <td>1992</td>\n",
       "      <td>143</td>\n",
       "      <td>9</td>\n",
       "      <td>5</td>\n",
       "      <td>Bielany</td>\n",
       "    </tr>\n",
       "    <tr>\n",
       "      <th>3</th>\n",
       "      <td>3643</td>\n",
       "      <td>1937</td>\n",
       "      <td>56</td>\n",
       "      <td>1</td>\n",
       "      <td>2</td>\n",
       "      <td>Praga</td>\n",
       "    </tr>\n",
       "    <tr>\n",
       "      <th>4</th>\n",
       "      <td>3517</td>\n",
       "      <td>1995</td>\n",
       "      <td>93</td>\n",
       "      <td>7</td>\n",
       "      <td>3</td>\n",
       "      <td>Ochota</td>\n",
       "    </tr>\n",
       "    <tr>\n",
       "      <th>5</th>\n",
       "      <td>3013</td>\n",
       "      <td>1992</td>\n",
       "      <td>144</td>\n",
       "      <td>6</td>\n",
       "      <td>5</td>\n",
       "      <td>Mokotow</td>\n",
       "    </tr>\n",
       "    <tr>\n",
       "      <th>...</th>\n",
       "      <td>...</td>\n",
       "      <td>...</td>\n",
       "      <td>...</td>\n",
       "      <td>...</td>\n",
       "      <td>...</td>\n",
       "      <td>...</td>\n",
       "    </tr>\n",
       "    <tr>\n",
       "      <th>996</th>\n",
       "      <td>6355</td>\n",
       "      <td>1921</td>\n",
       "      <td>44</td>\n",
       "      <td>2</td>\n",
       "      <td>2</td>\n",
       "      <td>Srodmiescie</td>\n",
       "    </tr>\n",
       "    <tr>\n",
       "      <th>997</th>\n",
       "      <td>3422</td>\n",
       "      <td>1921</td>\n",
       "      <td>48</td>\n",
       "      <td>10</td>\n",
       "      <td>2</td>\n",
       "      <td>Bemowo</td>\n",
       "    </tr>\n",
       "    <tr>\n",
       "      <th>998</th>\n",
       "      <td>3098</td>\n",
       "      <td>1980</td>\n",
       "      <td>85</td>\n",
       "      <td>3</td>\n",
       "      <td>3</td>\n",
       "      <td>Bemowo</td>\n",
       "    </tr>\n",
       "    <tr>\n",
       "      <th>999</th>\n",
       "      <td>4192</td>\n",
       "      <td>1942</td>\n",
       "      <td>36</td>\n",
       "      <td>7</td>\n",
       "      <td>1</td>\n",
       "      <td>Zoliborz</td>\n",
       "    </tr>\n",
       "    <tr>\n",
       "      <th>1000</th>\n",
       "      <td>3327</td>\n",
       "      <td>1992</td>\n",
       "      <td>112</td>\n",
       "      <td>6</td>\n",
       "      <td>5</td>\n",
       "      <td>Mokotow</td>\n",
       "    </tr>\n",
       "  </tbody>\n",
       "</table>\n",
       "<p>1000 rows × 6 columns</p>\n",
       "</div>"
      ],
      "text/plain": [
       "      m2_price  construction_year  surface  floor  no_rooms     district\n",
       "1         5897               1953       25      3         1  Srodmiescie\n",
       "2         1818               1992      143      9         5      Bielany\n",
       "3         3643               1937       56      1         2        Praga\n",
       "4         3517               1995       93      7         3       Ochota\n",
       "5         3013               1992      144      6         5      Mokotow\n",
       "...        ...                ...      ...    ...       ...          ...\n",
       "996       6355               1921       44      2         2  Srodmiescie\n",
       "997       3422               1921       48     10         2       Bemowo\n",
       "998       3098               1980       85      3         3       Bemowo\n",
       "999       4192               1942       36      7         1     Zoliborz\n",
       "1000      3327               1992      112      6         5      Mokotow\n",
       "\n",
       "[1000 rows x 6 columns]"
      ]
     },
     "execution_count": 23,
     "metadata": {},
     "output_type": "execute_result"
    }
   ],
   "source": [
    "data"
   ]
  },
  {
   "cell_type": "markdown",
   "id": "fleet-prospect",
   "metadata": {},
   "source": [
    "Wybrany przeze mnie drugi zbiór danych zawiera informacje o liczbie wypożyczonych rowerach w zależności od dnia (dzień tygodnia, miesiąc, informacja czy był to dzień roboczy) i od pogody. Naszym zadaniem będzie predykcja sumy wypożyczonych rowerów jednego dnia w zależności od tych właśnie danych."
   ]
  },
  {
   "cell_type": "code",
   "execution_count": 24,
   "id": "dynamic-louisville",
   "metadata": {},
   "outputs": [
    {
     "data": {
      "text/html": [
       "<div>\n",
       "<style scoped>\n",
       "    .dataframe tbody tr th:only-of-type {\n",
       "        vertical-align: middle;\n",
       "    }\n",
       "\n",
       "    .dataframe tbody tr th {\n",
       "        vertical-align: top;\n",
       "    }\n",
       "\n",
       "    .dataframe thead th {\n",
       "        text-align: right;\n",
       "    }\n",
       "</style>\n",
       "<table border=\"1\" class=\"dataframe\">\n",
       "  <thead>\n",
       "    <tr style=\"text-align: right;\">\n",
       "      <th></th>\n",
       "      <th>season</th>\n",
       "      <th>yr</th>\n",
       "      <th>mnth</th>\n",
       "      <th>holiday</th>\n",
       "      <th>weekday</th>\n",
       "      <th>workingday</th>\n",
       "      <th>weathersit</th>\n",
       "      <th>temp</th>\n",
       "      <th>atemp</th>\n",
       "      <th>hum</th>\n",
       "      <th>windspeed</th>\n",
       "      <th>casual</th>\n",
       "      <th>registered</th>\n",
       "      <th>cnt</th>\n",
       "    </tr>\n",
       "  </thead>\n",
       "  <tbody>\n",
       "    <tr>\n",
       "      <th>0</th>\n",
       "      <td>1</td>\n",
       "      <td>0</td>\n",
       "      <td>1</td>\n",
       "      <td>0</td>\n",
       "      <td>6</td>\n",
       "      <td>0</td>\n",
       "      <td>2</td>\n",
       "      <td>0.344167</td>\n",
       "      <td>0.363625</td>\n",
       "      <td>0.805833</td>\n",
       "      <td>0.160446</td>\n",
       "      <td>331</td>\n",
       "      <td>654</td>\n",
       "      <td>985</td>\n",
       "    </tr>\n",
       "    <tr>\n",
       "      <th>1</th>\n",
       "      <td>1</td>\n",
       "      <td>0</td>\n",
       "      <td>1</td>\n",
       "      <td>0</td>\n",
       "      <td>0</td>\n",
       "      <td>0</td>\n",
       "      <td>2</td>\n",
       "      <td>0.363478</td>\n",
       "      <td>0.353739</td>\n",
       "      <td>0.696087</td>\n",
       "      <td>0.248539</td>\n",
       "      <td>131</td>\n",
       "      <td>670</td>\n",
       "      <td>801</td>\n",
       "    </tr>\n",
       "    <tr>\n",
       "      <th>2</th>\n",
       "      <td>1</td>\n",
       "      <td>0</td>\n",
       "      <td>1</td>\n",
       "      <td>0</td>\n",
       "      <td>1</td>\n",
       "      <td>1</td>\n",
       "      <td>1</td>\n",
       "      <td>0.196364</td>\n",
       "      <td>0.189405</td>\n",
       "      <td>0.437273</td>\n",
       "      <td>0.248309</td>\n",
       "      <td>120</td>\n",
       "      <td>1229</td>\n",
       "      <td>1349</td>\n",
       "    </tr>\n",
       "    <tr>\n",
       "      <th>3</th>\n",
       "      <td>1</td>\n",
       "      <td>0</td>\n",
       "      <td>1</td>\n",
       "      <td>0</td>\n",
       "      <td>2</td>\n",
       "      <td>1</td>\n",
       "      <td>1</td>\n",
       "      <td>0.200000</td>\n",
       "      <td>0.212122</td>\n",
       "      <td>0.590435</td>\n",
       "      <td>0.160296</td>\n",
       "      <td>108</td>\n",
       "      <td>1454</td>\n",
       "      <td>1562</td>\n",
       "    </tr>\n",
       "    <tr>\n",
       "      <th>4</th>\n",
       "      <td>1</td>\n",
       "      <td>0</td>\n",
       "      <td>1</td>\n",
       "      <td>0</td>\n",
       "      <td>3</td>\n",
       "      <td>1</td>\n",
       "      <td>1</td>\n",
       "      <td>0.226957</td>\n",
       "      <td>0.229270</td>\n",
       "      <td>0.436957</td>\n",
       "      <td>0.186900</td>\n",
       "      <td>82</td>\n",
       "      <td>1518</td>\n",
       "      <td>1600</td>\n",
       "    </tr>\n",
       "    <tr>\n",
       "      <th>...</th>\n",
       "      <td>...</td>\n",
       "      <td>...</td>\n",
       "      <td>...</td>\n",
       "      <td>...</td>\n",
       "      <td>...</td>\n",
       "      <td>...</td>\n",
       "      <td>...</td>\n",
       "      <td>...</td>\n",
       "      <td>...</td>\n",
       "      <td>...</td>\n",
       "      <td>...</td>\n",
       "      <td>...</td>\n",
       "      <td>...</td>\n",
       "      <td>...</td>\n",
       "    </tr>\n",
       "    <tr>\n",
       "      <th>726</th>\n",
       "      <td>1</td>\n",
       "      <td>1</td>\n",
       "      <td>12</td>\n",
       "      <td>0</td>\n",
       "      <td>4</td>\n",
       "      <td>1</td>\n",
       "      <td>2</td>\n",
       "      <td>0.254167</td>\n",
       "      <td>0.226642</td>\n",
       "      <td>0.652917</td>\n",
       "      <td>0.350133</td>\n",
       "      <td>247</td>\n",
       "      <td>1867</td>\n",
       "      <td>2114</td>\n",
       "    </tr>\n",
       "    <tr>\n",
       "      <th>727</th>\n",
       "      <td>1</td>\n",
       "      <td>1</td>\n",
       "      <td>12</td>\n",
       "      <td>0</td>\n",
       "      <td>5</td>\n",
       "      <td>1</td>\n",
       "      <td>2</td>\n",
       "      <td>0.253333</td>\n",
       "      <td>0.255046</td>\n",
       "      <td>0.590000</td>\n",
       "      <td>0.155471</td>\n",
       "      <td>644</td>\n",
       "      <td>2451</td>\n",
       "      <td>3095</td>\n",
       "    </tr>\n",
       "    <tr>\n",
       "      <th>728</th>\n",
       "      <td>1</td>\n",
       "      <td>1</td>\n",
       "      <td>12</td>\n",
       "      <td>0</td>\n",
       "      <td>6</td>\n",
       "      <td>0</td>\n",
       "      <td>2</td>\n",
       "      <td>0.253333</td>\n",
       "      <td>0.242400</td>\n",
       "      <td>0.752917</td>\n",
       "      <td>0.124383</td>\n",
       "      <td>159</td>\n",
       "      <td>1182</td>\n",
       "      <td>1341</td>\n",
       "    </tr>\n",
       "    <tr>\n",
       "      <th>729</th>\n",
       "      <td>1</td>\n",
       "      <td>1</td>\n",
       "      <td>12</td>\n",
       "      <td>0</td>\n",
       "      <td>0</td>\n",
       "      <td>0</td>\n",
       "      <td>1</td>\n",
       "      <td>0.255833</td>\n",
       "      <td>0.231700</td>\n",
       "      <td>0.483333</td>\n",
       "      <td>0.350754</td>\n",
       "      <td>364</td>\n",
       "      <td>1432</td>\n",
       "      <td>1796</td>\n",
       "    </tr>\n",
       "    <tr>\n",
       "      <th>730</th>\n",
       "      <td>1</td>\n",
       "      <td>1</td>\n",
       "      <td>12</td>\n",
       "      <td>0</td>\n",
       "      <td>1</td>\n",
       "      <td>1</td>\n",
       "      <td>2</td>\n",
       "      <td>0.215833</td>\n",
       "      <td>0.223487</td>\n",
       "      <td>0.577500</td>\n",
       "      <td>0.154846</td>\n",
       "      <td>439</td>\n",
       "      <td>2290</td>\n",
       "      <td>2729</td>\n",
       "    </tr>\n",
       "  </tbody>\n",
       "</table>\n",
       "<p>731 rows × 14 columns</p>\n",
       "</div>"
      ],
      "text/plain": [
       "     season  yr  mnth  holiday  weekday  workingday  weathersit      temp  \\\n",
       "0         1   0     1        0        6           0           2  0.344167   \n",
       "1         1   0     1        0        0           0           2  0.363478   \n",
       "2         1   0     1        0        1           1           1  0.196364   \n",
       "3         1   0     1        0        2           1           1  0.200000   \n",
       "4         1   0     1        0        3           1           1  0.226957   \n",
       "..      ...  ..   ...      ...      ...         ...         ...       ...   \n",
       "726       1   1    12        0        4           1           2  0.254167   \n",
       "727       1   1    12        0        5           1           2  0.253333   \n",
       "728       1   1    12        0        6           0           2  0.253333   \n",
       "729       1   1    12        0        0           0           1  0.255833   \n",
       "730       1   1    12        0        1           1           2  0.215833   \n",
       "\n",
       "        atemp       hum  windspeed  casual  registered   cnt  \n",
       "0    0.363625  0.805833   0.160446     331         654   985  \n",
       "1    0.353739  0.696087   0.248539     131         670   801  \n",
       "2    0.189405  0.437273   0.248309     120        1229  1349  \n",
       "3    0.212122  0.590435   0.160296     108        1454  1562  \n",
       "4    0.229270  0.436957   0.186900      82        1518  1600  \n",
       "..        ...       ...        ...     ...         ...   ...  \n",
       "726  0.226642  0.652917   0.350133     247        1867  2114  \n",
       "727  0.255046  0.590000   0.155471     644        2451  3095  \n",
       "728  0.242400  0.752917   0.124383     159        1182  1341  \n",
       "729  0.231700  0.483333   0.350754     364        1432  1796  \n",
       "730  0.223487  0.577500   0.154846     439        2290  2729  \n",
       "\n",
       "[731 rows x 14 columns]"
      ]
     },
     "execution_count": 24,
     "metadata": {},
     "output_type": "execute_result"
    }
   ],
   "source": [
    "bikes = pd.read_csv('day.csv').drop(['instant', 'dteday'], axis=1)\n",
    "bikes"
   ]
  },
  {
   "cell_type": "markdown",
   "id": "alternate-steel",
   "metadata": {},
   "source": [
    "Widzimy, że kolumna cnt jest sumą kolumn casual i registered, więc należy jeszcze usunąć te dwie kolumny."
   ]
  },
  {
   "cell_type": "code",
   "execution_count": 25,
   "id": "monetary-transcript",
   "metadata": {},
   "outputs": [],
   "source": [
    "bikes = bikes.drop(['casual', 'registered'], axis=1)"
   ]
  },
  {
   "cell_type": "markdown",
   "id": "rental-market",
   "metadata": {},
   "source": [
    "## Kodowanie i podział zbiorów na zbiory treningowe i testowe"
   ]
  },
  {
   "cell_type": "code",
   "execution_count": 26,
   "id": "wound-maryland",
   "metadata": {},
   "outputs": [
    {
     "data": {
      "text/plain": [
       "10"
      ]
     },
     "execution_count": 26,
     "metadata": {},
     "output_type": "execute_result"
    }
   ],
   "source": [
    "len(data.district.value_counts())  # Sprawdzamy liczbę różnych wartości w kolumnie district"
   ]
  },
  {
   "cell_type": "markdown",
   "id": "relative-peace",
   "metadata": {},
   "source": [
    "Ze względu na małą liczbę różnych wartości zastosujemy OneHotEncoding."
   ]
  },
  {
   "cell_type": "code",
   "execution_count": 27,
   "id": "british-radius",
   "metadata": {},
   "outputs": [],
   "source": [
    "from category_encoders import OneHotEncoder\n",
    "\n",
    "encoder = OneHotEncoder(cols=['district'])\n",
    "data = encoder.fit_transform(data, data['m2_price'])\n",
    "\n",
    "X = data.drop('m2_price', axis = 1)\n",
    "y = data.m2_price\n",
    "X_train, X_test, y_train, y_test = train_test_split(X, y, test_size=0.3, random_state=42)"
   ]
  },
  {
   "cell_type": "code",
   "execution_count": 28,
   "id": "noticed-lodge",
   "metadata": {},
   "outputs": [],
   "source": [
    "X_2 = bikes.drop('cnt', axis=1)\n",
    "y_2 = bikes.cnt\n",
    "X_train_2, X_test_2, y_train_2, y_test_2 = train_test_split(X_2, y_2, test_size=0.3, random_state=42)"
   ]
  },
  {
   "cell_type": "markdown",
   "id": "transparent-mitchell",
   "metadata": {},
   "source": [
    "## Dopasowanie SVM do zbiorów danych"
   ]
  },
  {
   "cell_type": "code",
   "execution_count": 29,
   "id": "graphic-milan",
   "metadata": {},
   "outputs": [
    {
     "name": "stdout",
     "output_type": "stream",
     "text": [
      "RMSE: 921.4746771019635\n"
     ]
    }
   ],
   "source": [
    "svm = SVR()\n",
    "\n",
    "svm.fit(X_train, y_train)\n",
    "\n",
    "print(f'RMSE: {mean_squared_error(y_test, svm.predict(X_test), squared=False)}')"
   ]
  },
  {
   "cell_type": "code",
   "execution_count": 30,
   "id": "identical-store",
   "metadata": {},
   "outputs": [
    {
     "name": "stdout",
     "output_type": "stream",
     "text": [
      "RMSE: 1989.4110287085273\n"
     ]
    }
   ],
   "source": [
    "svm_2 = SVR()\n",
    "\n",
    "svm_2.fit(X_train_2, y_train_2)\n",
    "\n",
    "print(f'RMSE: {mean_squared_error(y_test_2, svm_2.predict(X_test_2), squared=False)}')"
   ]
  },
  {
   "cell_type": "markdown",
   "id": "successful-proof",
   "metadata": {},
   "source": [
    "Otrzymaliśmy wstępne modele z widocznymi wartościami RMSE otrzymanymi na zbiorach testowych, dalej będziemy starali się polepszyć te wyniki."
   ]
  },
  {
   "cell_type": "markdown",
   "id": "searching-track",
   "metadata": {},
   "source": [
    "## Skalowanie danych"
   ]
  },
  {
   "cell_type": "markdown",
   "id": "decreased-protocol",
   "metadata": {},
   "source": [
    "Ponieważ ramka danych bikes miała w większości kolumn przeskalowane dane już przy jej wczytywaniu przetestujemy zasadność skalowania jedynie na danych ze zbioru apartments."
   ]
  },
  {
   "cell_type": "code",
   "execution_count": 31,
   "id": "hairy-repair",
   "metadata": {},
   "outputs": [],
   "source": [
    "scaler = MinMaxScaler()\n",
    "data[['construction_year', 'surface', 'floor', 'no_rooms']] = scaler.fit_transform(data[[\n",
    "    'construction_year', 'surface', 'floor', 'no_rooms'\n",
    "]])\n",
    "\n",
    "X = data.drop('m2_price', axis = 1)\n",
    "y = data.m2_price\n",
    "X_train, X_test, y_train, y_test = train_test_split(X, y, test_size=0.3, random_state=42)"
   ]
  },
  {
   "cell_type": "code",
   "execution_count": 32,
   "id": "light-feeding",
   "metadata": {},
   "outputs": [
    {
     "name": "stdout",
     "output_type": "stream",
     "text": [
      "RMSE: 901.0384096140684\n"
     ]
    }
   ],
   "source": [
    "svm = SVR()\n",
    "\n",
    "svm.fit(X_train, y_train)\n",
    "\n",
    "print(f'RMSE: {mean_squared_error(y_test, svm.predict(X_test), squared=False)}')"
   ]
  },
  {
   "cell_type": "markdown",
   "id": "dutch-creator",
   "metadata": {},
   "source": [
    "Rzeczywiście po przeskalowaniu danych MinMaxScalerem uzyskujemy niższy RMSE względem poprzedniego (>921). To pokazuje, że warto wcześniej skalować dane."
   ]
  },
  {
   "cell_type": "markdown",
   "id": "romance-postage",
   "metadata": {},
   "source": [
    "## Random Search"
   ]
  },
  {
   "cell_type": "code",
   "execution_count": 33,
   "id": "abandoned-scanner",
   "metadata": {},
   "outputs": [
    {
     "data": {
      "text/plain": [
       "{'gamma': 'scale', 'degree': 13, 'C': 1951.9783891945972}"
      ]
     },
     "execution_count": 33,
     "metadata": {},
     "output_type": "execute_result"
    }
   ],
   "source": [
    "parameters = {'C': np.linspace(0.1, 2000, 2000),\n",
    "              'gamma': ['scale', 'auto', 1],\n",
    "              'degree': np.arange(1, 30, 1)}\n",
    "\n",
    "svm_rand = RandomizedSearchCV(svm, parameters, cv=3, n_iter=200)\n",
    "\n",
    "svm_rand.fit(X_train, y_train)\n",
    "svm_rand.best_params_"
   ]
  },
  {
   "cell_type": "code",
   "execution_count": 34,
   "id": "efficient-reconstruction",
   "metadata": {},
   "outputs": [
    {
     "name": "stdout",
     "output_type": "stream",
     "text": [
      "RMSE: 154.99495482468785\n"
     ]
    }
   ],
   "source": [
    "best_estimator = svm_rand.best_estimator_\n",
    "print(f'RMSE: {mean_squared_error(y_test, best_estimator.predict(X_test), squared=False)}')"
   ]
  },
  {
   "cell_type": "markdown",
   "id": "metallic-synthetic",
   "metadata": {},
   "source": [
    "Strojenie parametrów znacząco pomogło poprawić model, wartość RMSE bardzo spadła.\n",
    "Sprawdzimy jeszcze wartość RMSE, aby się upewnić, że nie mamy do czynienia z overfittingiem."
   ]
  },
  {
   "cell_type": "code",
   "execution_count": 39,
   "id": "abroad-scene",
   "metadata": {},
   "outputs": [
    {
     "name": "stdout",
     "output_type": "stream",
     "text": [
      "RMSE (train set): 136.58094403428802\n"
     ]
    }
   ],
   "source": [
    "print(f'RMSE (train): {mean_squared_error(y_train, best_estimator.predict(X_train), squared=False)}')"
   ]
  },
  {
   "cell_type": "markdown",
   "id": "spiritual-humanitarian",
   "metadata": {},
   "source": [
    "Teraz znajdziemy lepsze hiperparametry dla drugiego modelu."
   ]
  },
  {
   "cell_type": "code",
   "execution_count": 36,
   "id": "stretch-holly",
   "metadata": {},
   "outputs": [
    {
     "data": {
      "text/plain": [
       "{'gamma': 'auto', 'degree': 16, 'C': 1989.9954977488742}"
      ]
     },
     "execution_count": 36,
     "metadata": {},
     "output_type": "execute_result"
    }
   ],
   "source": [
    "parameters = {'C': np.linspace(0.1, 2000, 2000),\n",
    "              'gamma': ['scale', 'auto', 1],\n",
    "              'degree': np.arange(1, 30, 1)}\n",
    "\n",
    "svm_rand_2 = RandomizedSearchCV(svm_2, parameters, cv=3, n_iter=200)\n",
    "\n",
    "svm_rand_2.fit(X_train_2, y_train_2)\n",
    "svm_rand_2.best_params_"
   ]
  },
  {
   "cell_type": "code",
   "execution_count": 40,
   "id": "minor-helmet",
   "metadata": {},
   "outputs": [
    {
     "name": "stdout",
     "output_type": "stream",
     "text": [
      "RMSE: 739.8409416809249\n",
      "RMSE (train): 749.2615194606091\n"
     ]
    }
   ],
   "source": [
    "best_estimator_2 = svm_rand_2.best_estimator_\n",
    "print(f'RMSE: {mean_squared_error(y_test_2, best_estimator_2.predict(X_test_2), squared=False)}')\n",
    "print(f'RMSE (train): {mean_squared_error(y_train_2, best_estimator_2.predict(X_train_2), squared=False)}')"
   ]
  },
  {
   "cell_type": "markdown",
   "id": "referenced-aurora",
   "metadata": {},
   "source": [
    "Widzimy, że strojenie hiperparametrów bardzo pomogło osiągać lepsze wyniki."
   ]
  }
 ],
 "metadata": {
  "kernelspec": {
   "display_name": "Python 3",
   "language": "python",
   "name": "python3"
  },
  "language_info": {
   "codemirror_mode": {
    "name": "ipython",
    "version": 3
   },
   "file_extension": ".py",
   "mimetype": "text/x-python",
   "name": "python",
   "nbconvert_exporter": "python",
   "pygments_lexer": "ipython3",
   "version": "3.8.3"
  }
 },
 "nbformat": 4,
 "nbformat_minor": 5
}
